{
 "cells": [
  {
   "cell_type": "code",
   "execution_count": 4,
   "metadata": {
    "collapsed": false
   },
   "outputs": [
    {
     "name": "stdout",
     "output_type": "stream",
     "text": [
      "20400.0\n"
     ]
    }
   ],
   "source": [
    "class Emp:\n",
    "    def __init__(self, name, sal, incp):\n",
    "        self.name=name\n",
    "        self.sal=sal\n",
    "        self.incp=incp\n",
    "    def cal_incp(self):\n",
    "        return self.sal+self.sal*(self.incp/100.0)\n",
    "e1=Emp(\"name1\",20000,2)\n",
    "print e1.cal_incp()"
   ]
  },
  {
   "cell_type": "code",
   "execution_count": 5,
   "metadata": {
    "collapsed": false
   },
   "outputs": [
    {
     "name": "stdout",
     "output_type": "stream",
     "text": [
      "20800.0\n"
     ]
    }
   ],
   "source": [
    "class Emp:\n",
    "    def __init__(self, name, sal, incp):\n",
    "        self.name=name\n",
    "        self.sal=sal\n",
    "        self.incp=incp\n",
    "    def cal_incp(self):\n",
    "        return self.sal+self.sal*(self.incp/100.0)\n",
    "e1=Emp(\"name1\",20000,2)\n",
    "e1.incp=4\n",
    "print e1.cal_incp()"
   ]
  },
  {
   "cell_type": "code",
   "execution_count": 6,
   "metadata": {
    "collapsed": false
   },
   "outputs": [
    {
     "name": "stdout",
     "output_type": "stream",
     "text": [
      "20400.0\n"
     ]
    }
   ],
   "source": [
    "class Emp:\n",
    "    def __init__(self, name, sal, incp):\n",
    "        self.name=name\n",
    "        self.sal=sal\n",
    "        self.__incp=incp\n",
    "    def cal_incp(self):\n",
    "        return self.sal+self.sal*(self.__incp/100.0)\n",
    "e1=Emp(\"name1\",20000,2)\n",
    "e1.__incp=4\n",
    "print e1.cal_incp()"
   ]
  },
  {
   "cell_type": "code",
   "execution_count": null,
   "metadata": {
    "collapsed": true
   },
   "outputs": [],
   "source": [
    "class Emp:\n",
    "    def __init__(self, name, sal, incp):\n",
    "        self.name=name\n",
    "        self.sal=sal\n",
    "        self.__incp=incp\n",
    "    def double_incp(self):\n",
    "        return 2*self.incp\n",
    "    \n",
    "    def cal_incp(self):\n",
    "        return self.sal+self.sal*(self.__incp/100.0)\n",
    "e1=Emp(\"name1\",20000,2)\n",
    "e1.__incp=4\n",
    "print e1.cal_incp()"
   ]
  }
 ],
 "metadata": {
  "kernelspec": {
   "display_name": "Python 2",
   "language": "python",
   "name": "python2"
  },
  "language_info": {
   "codemirror_mode": {
    "name": "ipython",
    "version": 2
   },
   "file_extension": ".py",
   "mimetype": "text/x-python",
   "name": "python",
   "nbconvert_exporter": "python",
   "pygments_lexer": "ipython2",
   "version": "2.7.13"
  }
 },
 "nbformat": 4,
 "nbformat_minor": 2
}
