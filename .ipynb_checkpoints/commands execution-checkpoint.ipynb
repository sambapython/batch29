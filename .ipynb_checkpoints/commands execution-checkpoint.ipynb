{
 "cells": [
  {
   "cell_type": "code",
   "execution_count": 1,
   "metadata": {
    "collapsed": false
   },
   "outputs": [
    {
     "data": {
      "text/plain": [
       "0"
      ]
     },
     "execution_count": 1,
     "metadata": {},
     "output_type": "execute_result"
    }
   ],
   "source": [
    "import os\n",
    "os.system('mkdir f1')"
   ]
  },
  {
   "cell_type": "code",
   "execution_count": 2,
   "metadata": {
    "collapsed": false
   },
   "outputs": [
    {
     "data": {
      "text/plain": [
       "0"
      ]
     },
     "execution_count": 2,
     "metadata": {},
     "output_type": "execute_result"
    }
   ],
   "source": [
    "import os\n",
    "os.system('ls')"
   ]
  },
  {
   "cell_type": "code",
   "execution_count": 3,
   "metadata": {
    "collapsed": true
   },
   "outputs": [],
   "source": [
    "from subprocess import check_output\n",
    "check_output?"
   ]
  },
  {
   "cell_type": "code",
   "execution_count": 4,
   "metadata": {
    "collapsed": true
   },
   "outputs": [],
   "source": [
    "cmd_output = check_output(['ls','-l'])"
   ]
  },
  {
   "cell_type": "code",
   "execution_count": 5,
   "metadata": {
    "collapsed": false
   },
   "outputs": [
    {
     "name": "stdout",
     "output_type": "stream",
     "text": [
      "total 940\n",
      "-rw-rw-r-- 1 tcloudost tcloudost    30 Jul  4 09:07 a1.py\n",
      "-rw-rw-r-- 1 tcloudost tcloudost    27 Jun 15 08:10 a.py\n",
      "-rw-rw-r-- 1 tcloudost tcloudost   200 Jun  2 07:41 a.pyc\n",
      "-rw-rw-r-- 1 tcloudost tcloudost   647 Jul 11 09:50 classes.py\n",
      "-rw-rw-r-- 1 tcloudost tcloudost 39363 Jun  9 09:46 condtional statements.ipynb\n",
      "-rw-rw-r-- 1 tcloudost tcloudost    94 Jun 27 07:36 config1.txt\n",
      "-rw-rw-r-- 1 tcloudost tcloudost    67 Jun 27 07:33 config.txt\n",
      "-rw-rw-r-- 1 tcloudost tcloudost    20 Jun 27 07:32 confi.txt\n",
      "-rw-rw-r-- 1 tcloudost tcloudost    89 Jul  3 07:30 data1.csv\n",
      "-rw-rw-r-- 1 tcloudost tcloudost   127 Jul  3 07:36 data2.csv\n",
      "-rw-rw-r-- 1 tcloudost tcloudost  5963 Jun 27 07:58 database.ipynb\n",
      "-rw-rw-r-- 1 tcloudost tcloudost   110 Jul 15 08:52 data.csv\n",
      "-rw-rw-r-- 1 tcloudost tcloudost 33438 Jun  5 08:01 datatypes.ipynb\n",
      "-rw-rw-r-- 1 tcloudost tcloudost    30 Jun 24 08:50 data.xlsx\n",
      "-rw-r--r-- 1 tcloudost tcloudost  8192 Jun 27 07:58 db1.db\n",
      "-rw-rw-r-- 1 tcloudost tcloudost 11276 Jun 23 07:33 dictionaries.ipynb\n",
      "drwxrwxr-x 3 tcloudost tcloudost  4096 Jul  2 08:39 emp1\n",
      "drwxrwxr-x 3 tcloudost tcloudost  4096 Jul  2 08:40 emp2\n",
      "-rw-rw-r-- 1 tcloudost tcloudost 13468 Jun 30 07:44 exceptions.ipynb\n",
      "drwxrwxr-x 2 tcloudost tcloudost  4096 Jul 16 07:31 f1\n",
      "-rw-rw-r-- 1 tcloudost tcloudost 17604 Jun 27 07:39 files2.ipynb\n",
      "-rw-rw-r-- 1 tcloudost tcloudost 12321 Jun 24 08:58 files.ipynb\n",
      "-rw-rw-r-- 1 tcloudost tcloudost 35591 Jun 22 08:19 functions-adv.ipynb\n",
      "-rw-rw-r-- 1 tcloudost tcloudost 27287 Jun 14 09:34 functions.ipynb\n",
      "drwxrwxr-x 3 tcloudost tcloudost  4096 Jul  2 08:25 gitadmin\n",
      "-rw-rw-r-- 1 tcloudost tcloudost 45069 Jun 19 08:15 list2.ipynb\n",
      "-rw-rw-r-- 1 tcloudost tcloudost 45071 Jun 20 08:07 list3.ipynb\n",
      "-rw-rw-r-- 1 tcloudost tcloudost 40325 Jun 21 08:10 lists-dict.ipynb\n",
      "drwxrwxr-x 2 tcloudost tcloudost  4096 Jul 15 08:06 log-module\n",
      "-rw-rw-r-- 1 tcloudost tcloudost 29657 Jun 12 08:23 loop and ifelse.ipynb\n",
      "-rw-rw-r-- 1 tcloudost tcloudost   627 Jul  2 12:38 mails.txt\n",
      "-rw-rw-r-- 1 tcloudost tcloudost   447 Jun  9 09:33 mails.txt~\n",
      "-rw-rw-r-- 1 tcloudost tcloudost  9890 Jun  1 08:00 memory management.ipynb\n",
      "-rw-rw-r-- 1 tcloudost tcloudost    77 Jun 30 08:09 mod1.py\n",
      "drwxrwxr-x 4 tcloudost tcloudost  4096 Jul  2 09:53 module12\n",
      "drwxrwxr-x 4 tcloudost tcloudost  4096 Jun 24 07:43 modules\n",
      "-rw-rw-r-- 1 tcloudost tcloudost 36103 Jun 27 07:23 ms1.jpg\n",
      "-rw-rw-r-- 1 tcloudost tcloudost 36103 Jun 27 07:27 ms2.jpg\n",
      "-rw-rw-r-- 1 tcloudost tcloudost 36103 Aug 14  2016 ms.jpg\n",
      "-rw-rw-r-- 1 tcloudost tcloudost 27901 Jul  7 08:05 oops2.ipynb\n",
      "-rw-rw-r-- 1 tcloudost tcloudost   293 Jun 30 08:09 pdb1.py\n",
      "-rw-rw-r-- 1 tcloudost tcloudost 21153 Jun 13 08:02 prime numebr program.ipynb\n",
      "-rw-rw-r-- 1 tcloudost tcloudost 33423 Jul  3 08:11 re-class.ipynb\n",
      "-rw-rw-r-- 1 tcloudost tcloudost 49489 Jul 15 09:38 regular expressions.ipynb\n",
      "-rw-rw-r-- 1 tcloudost tcloudost  3027 Jul 10 07:25 security.ipynb\n",
      "drwxrwxr-x 2 tcloudost tcloudost  4096 Jul 10 07:46 socket_program\n",
      "-rw-rw-r-- 1 tcloudost tcloudost 43970 Jun 15 08:17 string funcitons2.ipynb\n",
      "-rw-rw-r-- 1 tcloudost tcloudost 40677 Jun 16 08:11 string functions3.ipynb\n",
      "-rw-rw-r-- 1 tcloudost tcloudost 36597 Jun  6 08:04 strings.ipynb\n",
      "-rw-rw-r-- 1 tcloudost tcloudost    72 Jun 30 07:20 Untitled1.ipynb\n",
      "-rw-rw-r-- 1 tcloudost tcloudost 28239 Jul  4 08:08 Untitled2.ipynb\n",
      "-rw-rw-r-- 1 tcloudost tcloudost 34338 Jul  6 08:06 Untitled3.ipynb\n",
      "-rw-rw-r-- 1 tcloudost tcloudost  1490 Jul 16 07:32 Untitled4.ipynb\n",
      "-rw-rw-r-- 1 tcloudost tcloudost  1452 Jun 24 08:28 Untitled.ipynb\n",
      "\n"
     ]
    }
   ],
   "source": [
    "print cmd_output"
   ]
  },
  {
   "cell_type": "code",
   "execution_count": 6,
   "metadata": {
    "collapsed": true
   },
   "outputs": [],
   "source": [
    "cmd_output = check_output(['ps','-aux'])"
   ]
  },
  {
   "cell_type": "code",
   "execution_count": 7,
   "metadata": {
    "collapsed": false
   },
   "outputs": [
    {
     "name": "stdout",
     "output_type": "stream",
     "text": [
      "USER       PID %CPU %MEM    VSZ   RSS TTY      STAT START   TIME COMMAND\n",
      "root         1  0.0  0.1 185176  4364 ?        Ss   Jul13   0:25 /sbin/init splash\n",
      "root         2  0.0  0.0      0     0 ?        S    Jul13   0:00 [kthreadd]\n",
      "root         3  0.0  0.0      0     0 ?        S    Jul13   0:07 [ksoftirqd/0]\n",
      "root         5  0.0  0.0      0     0 ?        S<   Jul13   0:00 [kworker/0:0H]\n",
      "root         7  0.0  0.0      0     0 ?        S    Jul13   0:48 [rcu_sched]\n",
      "root         8  0.0  0.0      0     0 ?        S    Jul13   0:00 [rcu_bh]\n",
      "root         9  0.0  0.0      0     0 ?        S    Jul13   0:45 [rcuos/0]\n",
      "root        10  0.0  0.0      0     0 ?        S    Jul13   0:00 [rcuob/0]\n",
      "root        11  0.0  0.0      0     0 ?        S    Jul13   0:00 [migration/0]\n",
      "root        12  0.0  0.0      0     0 ?        S    Jul13   0:02 [watchdog/0]\n",
      "root        13  0.0  0.0      0     0 ?        S<   Jul13   0:00 [khelper]\n",
      "root        14  0.0  0.0      0     0 ?        S    Jul13   0:00 [kdevtmpfs]\n",
      "root        15  0.0  0.0      0     0 ?        S<   Jul13   0:00 [netns]\n",
      "root        16  0.0  0.0      0     0 ?        S<   Jul13   0:00 [perf]\n",
      "root        17  0.0  0.0      0     0 ?        S    Jul13   0:00 [khungtaskd]\n",
      "root        18  0.0  0.0      0     0 ?        S<   Jul13   0:00 [writeback]\n",
      "root        19  0.0  0.0      0     0 ?        SN   Jul13   0:00 [ksmd]\n",
      "root        20  0.0  0.0      0     0 ?        SN   Jul13   1:46 [khugepaged]\n",
      "root        21  0.0  0.0      0     0 ?        S<   Jul13   0:00 [crypto]\n",
      "root        22  0.0  0.0      0     0 ?        S<   Jul13   0:00 [kintegrityd]\n",
      "root        23  0.0  0.0      0     0 ?        S<   Jul13   0:00 [bioset]\n",
      "root        24  0.0  0.0      0     0 ?        S<   Jul13   0:00 [kblockd]\n",
      "root        25  0.0  0.0      0     0 ?        S<   Jul13   0:00 [ata_sff]\n",
      "root        26  0.0  0.0      0     0 ?        S<   Jul13   0:00 [md]\n",
      "root        27  0.0  0.0      0     0 ?        S<   Jul13   0:00 [devfreq_wq]\n",
      "root        30  0.0  0.0      0     0 ?        S    Jul13   0:06 [kswapd0]\n",
      "root        31  0.0  0.0      0     0 ?        S<   Jul13   0:00 [vmstat]\n",
      "root        32  0.0  0.0      0     0 ?        S    Jul13   0:00 [fsnotify_mark]\n",
      "root        33  0.0  0.0      0     0 ?        S    Jul13   0:00 [ecryptfs-kthrea]\n",
      "root        44  0.0  0.0      0     0 ?        S<   Jul13   0:00 [kthrotld]\n",
      "root        45  0.0  0.0      0     0 ?        S<   Jul13   0:00 [acpi_thermal_pm]\n",
      "root        46  0.0  0.0      0     0 ?        S    Jul13   0:00 [scsi_eh_0]\n",
      "root        47  0.0  0.0      0     0 ?        S<   Jul13   0:00 [scsi_tmf_0]\n",
      "root        48  0.0  0.0      0     0 ?        S    Jul13   0:00 [scsi_eh_1]\n",
      "root        49  0.0  0.0      0     0 ?        S<   Jul13   0:00 [scsi_tmf_1]\n",
      "root        54  0.0  0.0      0     0 ?        S<   Jul13   0:00 [ipv6_addrconf]\n",
      "root        74  0.0  0.0      0     0 ?        S<   Jul13   0:00 [deferwq]\n",
      "root        75  0.0  0.0      0     0 ?        S<   Jul13   0:00 [charger_manager]\n",
      "root       113  0.0  0.0      0     0 ?        S<   Jul13   0:00 [kpsmoused]\n",
      "root       116  0.0  0.0      0     0 ?        S<   Jul13   0:06 [kworker/0:1H]\n",
      "root       117  0.0  0.0      0     0 ?        S    Jul13   0:00 [scsi_eh_2]\n",
      "root       118  0.0  0.0      0     0 ?        S<   Jul13   0:00 [scsi_tmf_2]\n",
      "root       144  0.0  0.0      0     0 ?        S    Jul13   0:32 [jbd2/sda1-8]\n",
      "root       145  0.0  0.0      0     0 ?        S<   Jul13   0:00 [ext4-rsv-conver]\n",
      "root       181  0.0  0.0      0     0 ?        S    Jul13   0:00 [kauditd]\n",
      "root       198  0.0  0.2  40872 10456 ?        Ss   Jul13   0:12 /lib/systemd/systemd-journald\n",
      "root       213  0.0  0.1  45824  4336 ?        Ss   Jul13   0:07 /lib/systemd/systemd-udevd\n",
      "root       314  0.0  0.0      0     0 ?        S<   Jul13   0:00 [iprt-VBoxWQueue]\n",
      "systemd+   330  0.0  0.0 102356  2676 ?        Ssl  Jul13   0:04 /lib/systemd/systemd-timesyncd\n",
      "root       512  0.0  0.0  25180  2364 ?        Ss   Jul13   0:00 /sbin/cgmanager -m name=systemd\n",
      "avahi      517  0.0  0.0  40192  2968 ?        Ss   Jul13   0:04 avahi-daemon: running [tcloudost-VirtualBox.local]\n",
      "root       518  0.0  0.1 287308  5856 ?        Ssl  Jul13   0:28 /usr/lib/accountsservice/accounts-daemon\n",
      "root       522  0.0  0.2 381876 11252 ?        Ssl  Jul13   0:10 /usr/sbin/NetworkManager --no-daemon\n",
      "root       532  0.0  0.0  28608  2776 ?        Ss   Jul13   0:04 /lib/systemd/systemd-logind\n",
      "syslog     535  0.0  0.0 256372  2452 ?        Ssl  Jul13   0:02 /usr/sbin/rsyslogd -n\n",
      "whoopsie   538  0.0  0.2 521336 10236 ?        Ssl  Jul13   0:01 /usr/bin/whoopsie -f\n",
      "root       548  0.0  0.0  33124  2560 ?        Ss   Jul13   0:03 /usr/sbin/cron -f\n",
      "root       551  0.0  0.1 337280  5128 ?        Ssl  Jul13   0:00 /usr/sbin/ModemManager\n",
      "message+   556  0.0  0.1  44328  4828 ?        Ss   Jul13   0:58 /usr/bin/dbus-daemon --system --address=systemd: --nofork --nopidfile --systemd-activation\n",
      "avahi      573  0.0  0.0  40068    52 ?        S    Jul13   0:00 avahi-daemon: chroot helper\n",
      "root       606  0.0  0.0 247744  1452 ?        Sl   Jul13   1:53 /usr/sbin/VBoxService\n",
      "root       620  0.0  0.1 272356  6948 ?        Ssl  Jul13   0:00 /usr/sbin/cups-browsed\n",
      "root       624  0.0  0.1  69932  5872 ?        Ss   Jul13   0:05 /usr/sbin/sshd -D\n",
      "mysql      628  0.0  0.0   4476  1384 ?        Ss   Jul13   0:00 /bin/sh /usr/bin/mysqld_safe\n",
      "root       631  0.0  0.2 285720  9516 ?        Ssl  Jul13   0:01 /usr/lib/policykit-1/polkitd --no-debug\n",
      "root       765  0.0  0.0  39192  3116 ?        Ss   Jul13   0:00 /sbin/wpa_supplicant -u -s -O /run/wpa_supplicant\n",
      "postgres   796  0.0  0.4 293632 18528 ?        S    Jul13   0:56 /usr/lib/postgresql/9.4/bin/postgres -D /var/lib/postgresql/9.4/main -c config_file=/etc/postgresql/9.4/main/postgresql.conf\n",
      "root       912  0.0  0.0 124520   184 ?        Ss   Jul13   0:00 nginx: master process /usr/sbin/nginx -g daemon on; master_process on;\n",
      "www-data   916  0.0  0.0 124856  1396 ?        S    Jul13   0:00 nginx: worker process                           \n",
      "postgres  1054  0.0  0.0 293764  3672 ?        Ss   Jul13   0:00 postgres: checkpointer process                                                                                              \n",
      "mysql     1055  0.0  1.6 737464 68016 ?        Sl   Jul13   3:30 /usr/sbin/mysqld --basedir=/usr --datadir=/var/lib/mysql --plugin-dir=/usr/lib/mysql/plugin --log-error=/var/log/mysql/error.log --pid-file=/var/run/mysqld/mysqld.pid --socket=/var/run/mysqld/mysqld.sock --port=3306\n",
      "postgres  1056  0.0  0.0 293632  2772 ?        Ss   Jul13   0:15 postgres: writer process                                                                                                    \n",
      "postgres  1057  0.0  0.1 293632  5680 ?        Ss   Jul13   0:17 postgres: wal writer process                                                                                                \n",
      "postgres  1058  0.0  0.0 294052  2900 ?        Ss   Jul13   0:30 postgres: autovacuum launcher process                                                                                       \n",
      "postgres  1059  0.0  0.0 149012  1940 ?        Ss   Jul13   0:27 postgres: stats collector process                                                                                           \n",
      "nobody    1061  0.0  0.0  52288  2976 ?        S    Jul13   0:18 /usr/sbin/dnsmasq --no-resolv --keep-in-foreground --no-hosts --bind-interfaces --pid-file=/run/sendsigs.omit.d/network-manager.dnsmasq.pid --listen-address=127.0.1.1 --conf-file=/var/run/NetworkManager/dnsmasq.conf --cache-size=0 --proxy-dnssec --enable-dbus=org.freedesktop.NetworkManager.dnsmasq --conf-dir=/etc/NetworkManager/dnsmasq.d\n",
      "kernoops  1279  0.0  0.0  45276  2336 ?        Ss   Jul13   0:05 /usr/sbin/kerneloops\n",
      "snmp      1467  0.1  0.1  61388  4356 ?        S    Jul13   6:34 /usr/sbin/snmpd -Lsd -Lf /dev/null -u snmp -g snmp -I -smux mteTrigger mteTriggerConf -p /run/snmpd.pid\n",
      "root      1611  0.0  0.1 352420  7636 ?        SLsl Jul13   0:00 /usr/sbin/lightdm\n",
      "root      1652  7.0  3.5 474476 144964 tty7    Ss+  Jul13 278:47 /usr/bin/X -core :0 -seat seat0 -auth /var/run/lightdm/root/:0 -nolisten tcp vt7 -novtswitch\n",
      "root      1948  0.0  0.0  20052  1980 tty1     Ss+  Jul13   0:00 /sbin/agetty --noclear tty1 linux\n",
      "rtkit     2078  0.0  0.0 178820  2648 ?        SNsl Jul13   0:12 /usr/lib/rtkit/rtkit-daemon\n",
      "root      2093  0.0  0.2 280108  9248 ?        Ssl  Jul13   0:00 /usr/lib/upower/upowerd\n",
      "colord    2105  0.0  0.2 305104  9260 ?        Ssl  Jul13   0:00 /usr/lib/colord/colord\n",
      "root      2334  0.0  0.1 230224  5756 ?        Sl   Jul13   0:00 lightdm --session-child 12 19\n",
      "tcloudo+  2344  0.0  0.1  45164  4092 ?        Ss   Jul13   0:00 /lib/systemd/systemd --user\n",
      "tcloudo+  2345  0.0  0.0  61164  1508 ?        S    Jul13   0:00 (sd-pam)         \n",
      "tcloudo+  2350  0.0  0.1 439856  7076 ?        Sl   Jul13   0:01 /usr/bin/gnome-keyring-daemon --daemonize --login\n",
      "tcloudo+  2352  0.0  0.0  45780  3608 ?        Ss   Jul13   0:03 /sbin/upstart --user\n",
      "tcloudo+  2429  0.0  0.0  49464  1100 ?        S    Jul13   1:20 /usr/bin/VBoxClient --clipboard\n",
      "tcloudo+  2433  0.0  0.0  49464  1152 ?        S    Jul13   1:22 /usr/bin/VBoxClient --checkhostversion\n",
      "tcloudo+  2441  0.0  0.0  49464  1140 ?        S    Jul13   1:22 /usr/bin/VBoxClient --display\n",
      "tcloudo+  2451  0.0  0.0  49464  1128 ?        S    Jul13   1:26 /usr/bin/VBoxClient --seamless\n",
      "tcloudo+  2454  0.0  0.0  39016  1328 ?        S    Jul13   0:00 dbus-launch --autolaunch=e51c7092bfbd4fb4ac8b04918ff33401 --binary-syntax --close-stderr\n",
      "tcloudo+  2464  0.0  0.0  49464  1144 ?        S    Jul13   1:19 /usr/bin/VBoxClient --draganddrop\n",
      "tcloudo+  2466  0.0  0.0  42860  2528 ?        Ss   Jul13   0:00 /usr/bin/dbus-daemon --fork --print-pid 5 --print-address 7 --session\n",
      "tcloudo+  2477  0.0  0.3 439336 13616 ?        Sl   Jul13   0:42 /usr/lib/x86_64-linux-gnu/notify-osd\n",
      "tcloudo+  2490  0.0  0.1 337956  4832 ?        Sl   Jul13   0:00 /usr/lib/at-spi2-core/at-spi-bus-launcher\n",
      "tcloudo+  2495  0.0  0.0  32296  1772 ?        S    Jul13   0:00 upstart-udev-bridge --daemon --user\n",
      "tcloudo+  2507  0.0  0.0  42988  3624 ?        S    Jul13   0:12 /usr/bin/dbus-daemon --config-file=/etc/at-spi2/accessibility.conf --nofork --print-address 3\n",
      "tcloudo+  2513  0.0  0.1 206936  5628 ?        Sl   Jul13   0:36 /usr/lib/at-spi2-core/at-spi2-registryd --use-gnome-session\n",
      "tcloudo+  2520  0.0  0.1 271164  4344 ?        Sl   Jul13   0:00 /usr/lib/gvfs/gvfsd\n",
      "tcloudo+  2521  0.0  0.1  44132  4068 ?        Ss   Jul13   0:57 dbus-daemon --fork --session --address=unix:abstract=/tmp/dbus-G9BI0gILg8\n",
      "tcloudo+  2528  0.0  0.1 409032  4728 ?        Sl   Jul13   0:00 /usr/lib/gvfs/gvfsd-fuse /run/user/1000/gvfs -f -o big_writes\n",
      "tcloudo+  2546  0.0  0.1  88176  5472 ?        Ss   Jul13   0:04 /usr/lib/x86_64-linux-gnu/hud/window-stack-bridge\n",
      "tcloudo+  2557  0.0  0.2 426984 10448 ?        Sl   Jul13   0:42 /usr/bin/gnome-screensaver --no-daemon\n",
      "tcloudo+  2582  0.0  0.3 515904 15744 ?        Sl   Jul13   1:55 /usr/lib/x86_64-linux-gnu/bamf/bamfdaemon\n",
      "tcloudo+  2596  0.0  0.0  32340  1416 ?        S    Jul13   0:16 upstart-dbus-bridge --daemon --session --user --bus-name session\n",
      "tcloudo+  2603  0.0  0.1 419376  5500 ?        Sl   Jul13   0:01 /usr/lib/gvfs/gvfsd\n",
      "tcloudo+  2607  0.0  0.0  32232  1304 ?        S    Jul13   0:00 upstart-dbus-bridge --daemon --system --user --bus-name system\n",
      "tcloudo+  2614  0.0  0.0  40840  1296 ?        S    Jul13   0:00 upstart-file-bridge --daemon --user\n",
      "tcloudo+  2616  0.4  1.3 379512 55880 ?        Ssl  Jul13  16:59 /usr/bin/ibus-daemon --daemonize --xim\n",
      "tcloudo+  2628  0.0  0.1 270504  5408 ?        Sl   Jul13   0:00 /usr/lib/ibus/ibus-dconf\n",
      "tcloudo+  2630  0.0  1.0 499868 42760 ?        Sl   Jul13   3:24 /usr/lib/ibus/ibus-ui-gtk3\n",
      "tcloudo+  2632  0.0  0.2 376804  9604 ?        Sl   Jul13   0:06 /usr/lib/ibus/ibus-x11 --kill-daemon\n",
      "tcloudo+  2647  0.0  2.5 871008 102188 ?       Ssl  Jul13   2:52 /usr/lib/x86_64-linux-gnu/hud/hud-service\n",
      "tcloudo+  2649  0.0  0.5 797456 21144 ?        Ssl  Jul13   2:26 /usr/lib/unity-settings-daemon/unity-settings-daemon\n",
      "tcloudo+  2655  0.0  0.2 554600  8740 ?        Ssl  Jul13   0:02 gnome-session --session=ubuntu\n",
      "tcloudo+  2662 10.1  9.6 1412760 389704 ?      Ssl  Jul13 400:41 compiz\n",
      "tcloudo+  2663  0.0  1.6 739908 65960 ?        Ssl  Jul13   2:56 /usr/lib/unity/unity-panel-service\n",
      "tcloudo+  2669  0.0  0.1 194772  5180 ?        Sl   Jul13   2:18 /usr/lib/ibus/ibus-engine-simple\n",
      "tcloudo+  2690  0.0  0.1 178628  4428 ?        Sl   Jul13   0:00 /usr/lib/dconf/dconf-service\n",
      "tcloudo+  2706  0.0  0.1 363644  6076 ?        Ssl  Jul13   0:00 /usr/lib/x86_64-linux-gnu/indicator-messages/indicator-messages-service\n",
      "tcloudo+  2707  0.0  0.1 337480  4460 ?        Ssl  Jul13   0:00 /usr/lib/x86_64-linux-gnu/indicator-bluetooth/indicator-bluetooth-service\n",
      "tcloudo+  2708  0.0  0.1 492492  4492 ?        Ssl  Jul13   0:00 /usr/lib/x86_64-linux-gnu/indicator-power/indicator-power-service\n",
      "tcloudo+  2711  0.0  0.2 775924  9428 ?        Ssl  Jul13   0:12 /usr/lib/x86_64-linux-gnu/indicator-datetime/indicator-datetime-service\n",
      "tcloudo+  2721  0.0  0.3 642024 14100 ?        Ssl  Jul13   0:40 /usr/lib/x86_64-linux-gnu/indicator-keyboard/indicator-keyboard-service --use-gtk\n",
      "tcloudo+  2723  0.0  0.1 549004  7280 ?        Ssl  Jul13   0:00 /usr/lib/x86_64-linux-gnu/indicator-sound/indicator-sound-service\n",
      "tcloudo+  2724  0.0  0.3 541704 15280 ?        Ssl  Jul13   0:39 /usr/lib/x86_64-linux-gnu/indicator-printers/indicator-printers-service\n",
      "tcloudo+  2725  0.0  0.1 631740  6772 ?        Ssl  Jul13   0:00 /usr/lib/x86_64-linux-gnu/indicator-session/indicator-session-service\n",
      "tcloudo+  2728  0.0  0.2 469320  9936 ?        Ssl  Jul13   0:01 /usr/lib/x86_64-linux-gnu/indicator-application/indicator-application-service\n",
      "tcloudo+  2750  0.0  0.2 911880 10500 ?        Sl   Jul13   0:00 /usr/lib/evolution/evolution-source-registry\n",
      "tcloudo+  2783  0.0  0.2 434488  8136 ?        S<l  Jul13   0:32 /usr/bin/pulseaudio --start --log-target=syslog\n",
      "tcloudo+  2797  0.1  1.9 1165548 77008 ?       Sl   Jul13   6:01 nautilus -n\n",
      "tcloudo+  2801  0.0  0.2 426140 11368 ?        Sl   Jul13   0:35 /usr/lib/policykit-1-gnome/polkit-gnome-authentication-agent-1\n",
      "tcloudo+  2805  0.0  0.2 573516 11852 ?        Sl   Jul13   0:35 /usr/lib/unity-settings-daemon/unity-fallback-mount-helper\n",
      "tcloudo+  2806  0.0  0.5 588500 24280 ?        Sl   Jul13   0:47 nm-applet\n",
      "tcloudo+  2819  0.0  0.1 289516  5820 ?        Sl   Jul13   0:00 /usr/lib/gvfs/gvfs-udisks2-volume-monitor\n",
      "tcloudo+  2823  0.0  0.1  66292  4472 ?        S    Jul13   0:03 /usr/lib/x86_64-linux-gnu/gconf/gconfd-2\n",
      "root      2826  0.0  0.2 367508  9844 ?        Ssl  Jul13   0:01 /usr/lib/udisks2/udisksd --no-debug\n",
      "tcloudo+  2829  0.0  0.9 859160 38796 ?        Sl   Jul13   0:00 /usr/lib/evolution/evolution-calendar-factory\n",
      "tcloudo+  2841  0.0  0.1 403172  7552 ?        Sl   Jul13   0:00 /usr/lib/gvfs/gvfs-afc-volume-monitor\n",
      "tcloudo+  2847  0.0  0.1 275816  4640 ?        Sl   Jul13   0:00 /usr/lib/gvfs/gvfs-gphoto2-volume-monitor\n",
      "tcloudo+  2852  0.0  0.1 263620  4572 ?        Sl   Jul13   0:00 /usr/lib/gvfs/gvfs-mtp-volume-monitor\n",
      "tcloudo+  2863  0.0  0.1 344896  5212 ?        Sl   Jul13   0:00 /usr/lib/gvfs/gvfsd-burn --spawner :1.6 /org/gtk/gvfs/exec_spaw/0\n",
      "tcloudo+  2869  0.0  0.1 349900  6060 ?        Sl   Jul13   0:02 /usr/lib/gvfs/gvfsd-trash --spawner :1.6 /org/gtk/gvfs/exec_spaw/1\n",
      "tcloudo+  2893  0.0  0.3 783788 12728 ?        Sl   Jul13   0:00 /usr/lib/evolution/evolution-calendar-factory-subprocess --factory contacts --bus-name org.gnome.evolution.dataserver.Subprocess.Backend.Calendarx2829x2 --own-path /org/gnome/evolution/dataserver/Subprocess/Backend/Calendar/2829/2\n",
      "tcloudo+  2902  0.0  0.2 768160  9656 ?        Sl   Jul13   0:00 /usr/lib/evolution/evolution-calendar-factory-subprocess --factory local --bus-name org.gnome.evolution.dataserver.Subprocess.Backend.Calendarx2829x3 --own-path /org/gnome/evolution/dataserver/Subprocess/Backend/Calendar/2829/3\n",
      "tcloudo+  2912  0.0  0.3 692320 12800 ?        Sl   Jul13   0:00 /usr/lib/evolution/evolution-addressbook-factory\n",
      "tcloudo+  2925  0.0  0.2 776076 10740 ?        Sl   Jul13   0:00 /usr/lib/evolution/evolution-addressbook-factory-subprocess --factory local --bus-name org.gnome.evolution.dataserver.Subprocess.Backend.AddressBookx2912x2 --own-path /org/gnome/evolution/dataserver/Subprocess/Backend/AddressBook/2912/2\n",
      "tcloudo+  2945  0.0  0.1 190812  5652 ?        Sl   Jul13   0:01 /usr/lib/gvfs/gvfsd-metadata\n",
      "tcloudo+  2961  0.0  0.3 549192 15440 ?        Sl   Jul13   0:36 telepathy-indicator\n",
      "tcloudo+  2970  0.0  0.3 425288 13660 ?        Sl   Jul13   0:04 /usr/lib/telepathy/mission-control-5\n",
      "tcloudo+  2995  0.0  0.2 552288 11296 ?        Sl   Jul13   2:03 zeitgeist-datahub\n",
      "tcloudo+  3003  0.0  0.1 412604  7616 ?        Sl   Jul13   0:06 /usr/bin/zeitgeist-daemon\n",
      "tcloudo+  3012  0.0  0.6 332548 25592 ?        Sl   Jul13   0:12 /usr/lib/x86_64-linux-gnu/zeitgeist-fts\n",
      "tcloudo+  3126  0.0  0.4 520836 16284 ?        Sl   Jul13   0:40 update-notifier\n",
      "tcloudo+  3155  0.0  0.5 720476 23020 ?        Sl   Jul13   0:02 /usr/lib/gvfs/gvfsd-http --spawner :1.6 /org/gtk/gvfs/exec_spaw/2\n",
      "tcloudo+  3349  0.0  0.2 441828  8540 ?        Sl   Jul13   0:00 /usr/lib/x86_64-linux-gnu/deja-dup/deja-dup-monitor\n",
      "tcloudo+  3934  0.0  0.5 676088 20932 ?        Sl   Jul13   0:08 /usr/lib/x86_64-linux-gnu/unity-scope-home/unity-scope-home\n",
      "tcloudo+  3958  0.0  0.4 583472 18840 ?        Sl   Jul13   0:38 /usr/bin/unity-scope-loader applications/applications.scope applications/scopes.scope commands.scope\n",
      "tcloudo+  3960  0.0  0.3 710512 15548 ?        Sl   Jul13   0:58 /usr/lib/x86_64-linux-gnu/unity-lens-files/unity-files-daemon\n",
      "uuidd     3985  0.0  0.0  27592   784 ?        Ss   Jul13   0:00 /usr/sbin/uuidd --socket-activation\n",
      "tcloudo+  3990  0.0  0.2 339344  8868 ?        Sl   Jul13   0:30 /usr/lib/x86_64-linux-gnu/unity-lens-music/unity-music-daemon\n",
      "tcloudo+  5963  0.0  1.0 637208 43028 ?        Ssl  Jul15   0:31 /home/tcloudost/Downloads/yes/bin/python -m ipykernel -f /run/user/1000/jupyter/kernel-b9760764-c51d-4e4e-a942-8acd5dc73658.json\n",
      "root      6974  0.0  0.0      0     0 ?        S    06:58   0:00 [kworker/u2:1]\n",
      "root      7504  0.0  0.0      0     0 ?        S    07:06   0:01 [kworker/0:1]\n",
      "root      8675  0.0  0.0      0     0 ?        S    07:24   0:00 [kworker/u2:0]\n",
      "root      8910  0.1  0.0      0     0 ?        S    07:27   0:00 [kworker/0:0]\n",
      "root      8962  0.0  0.2  23588 10376 ?        S    07:28   0:00 /sbin/dhclient -d -q -sf /usr/lib/NetworkManager/nm-dhcp-helper -pf /run/sendsigs.omit.d/network-manager.dhclient-enp0s8.pid -lf /var/lib/NetworkManager/dhclient-9bd3f606-846d-4ce7-84ec-376947be116c-enp0s8.lease -cf /var/lib/NetworkManager/dhclient-enp0s8.conf enp0s8\n",
      "root      8964  0.0  0.2  23588 10364 ?        S    07:28   0:00 /sbin/dhclient -d -q -sf /usr/lib/NetworkManager/nm-dhcp-helper -pf /run/sendsigs.omit.d/network-manager.dhclient-enp0s9.pid -lf /var/lib/NetworkManager/dhclient-a1adf451-5ff6-469f-961e-28b26d504ebd-enp0s9.lease -cf /var/lib/NetworkManager/dhclient-enp0s9.conf enp0s9\n",
      "root      8968  0.0  0.2  23588 10360 ?        S    07:28   0:00 /sbin/dhclient -d -q -sf /usr/lib/NetworkManager/nm-dhcp-helper -pf /run/sendsigs.omit.d/network-manager.dhclient-enp0s10.pid -lf /var/lib/NetworkManager/dhclient-7ac4a8e8-551d-4368-8a10-d11c0db841fb-enp0s10.lease -cf /var/lib/NetworkManager/dhclient-enp0s10.conf enp0s10\n",
      "root      8992  0.0  0.2  23588 10380 ?        S    07:28   0:00 /sbin/dhclient -d -q -sf /usr/lib/NetworkManager/nm-dhcp-helper -pf /run/sendsigs.omit.d/network-manager.dhclient-enp0s3.pid -lf /var/lib/NetworkManager/dhclient-eace86fe-648d-4321-8265-ba78b0bb1cd0-enp0s3.lease -cf /var/lib/NetworkManager/dhclient-enp0s3.conf enp0s3\n",
      "root      9363  0.0  0.0  11428  2212 ?        Ss   07:30   0:00 /usr/sbin/anacron -dsq\n",
      "tcloudo+  9364  2.0  1.3 354624 56340 pts/17   Sl+  07:30   0:04 /home/tcloudost/anac3/bin/python /home/tcloudost/anac3/bin/ipython notebook\n",
      "root      9413  0.0  0.0      0     0 ?        S    07:30   0:00 [kworker/u2:2]\n",
      "tcloudo+  9425  1.5  1.0 636032 43040 ?        Ssl  07:30   0:02 /home/tcloudost/anac3/bin/python -m ipykernel -f /run/user/1000/jupyter/kernel-7811bb3d-1d7d-47f4-ba17-531b69fafcfb.json\n",
      "tcloudo+  9647  7.0  0.0  22676  2652 ?        R    07:33   0:00 ps -aux\n",
      "tcloudo+ 10520  0.0  0.5 487048 23460 ?        Sl   Jul13   0:45 /usr/lib/x86_64-linux-gnu/notify-osd\n",
      "tcloudo+ 11266  0.0  1.0 637244 43052 ?        Ssl  Jul15   0:31 /home/tcloudost/Downloads/yes/bin/python -m ipykernel -f /run/user/1000/jupyter/kernel-7e16ef7d-2118-4615-9851-ae2e8dd40d05.json\n",
      "tcloudo+ 13102  0.0  1.0 636040 42040 ?        Ssl  Jul15   0:15 /home/tcloudost/Downloads/yes/bin/python -m ipykernel -f /run/user/1000/jupyter/kernel-706f0e90-bb9e-4f52-b282-5c99cbb8bfe2.json\n",
      "tcloudo+ 14277  0.0  0.1  27572  5972 pts/19   Ss+  01:15   0:00 bash\n",
      "tcloudo+ 16807  0.0  1.0 637488 41852 ?        Ssl  Jul13   0:57 /home/tcloudost/Downloads/yes/bin/python -m ipykernel -f /run/user/1000/jupyter/kernel-9235b7f3-13ff-48a2-bbde-3ff5d8b872df.json\n",
      "tcloudo+ 18387  0.0  1.0 637216 43604 ?        Ssl  Jul15   0:15 /home/tcloudost/Downloads/yes/bin/python -m ipykernel -f /run/user/1000/jupyter/kernel-15e4772e-ef10-4b3f-80f8-49951c143e1b.json\n",
      "tcloudo+ 19072  0.5  1.6 1414864 66292 ?       Ssl  02:05   1:46 /opt/sublime_text/sublime_text\n",
      "tcloudo+ 19096  0.0  1.0 303944 40760 ?        Sl   02:06   0:10 /opt/sublime_text/plugin_host 19072\n",
      "tcloudo+ 19471  0.0  1.0 636908 42376 ?        Ssl  Jul13   0:57 /home/tcloudost/Downloads/yes/bin/python -m ipykernel -f /run/user/1000/jupyter/kernel-edbc74e8-c8d9-4495-9816-f143a367b739.json\n",
      "tcloudo+ 20791  0.0  1.1 691604 46608 ?        Sl   02:26   0:11 gedit /home/tcloudost/pythonexamples/batch29/log-module/log.txt\n",
      "tcloudo+ 25992  0.1  0.9 650972 38468 ?        Sl   Jul15   0:55 /usr/lib/gnome-terminal/gnome-terminal-server\n",
      "tcloudo+ 25999  0.0  0.0  14852  1868 ?        S    Jul15   0:00 gnome-pty-helper\n",
      "tcloudo+ 26003  0.0  0.1  27568  6008 pts/17   Ss   Jul15   0:00 bash\n",
      "tcloudo+ 26085 10.6 15.5 1653416 628160 ?      Rl   Jul15  69:41 /usr/lib/firefox/firefox http://localhost:8888/tree?token=c0e2c5440085a028332cf521e84ef8bfcd38b9bd1eb5c81f\n",
      "root     27864  0.0  0.1  90212  6496 ?        Ss   Jul15   0:00 /usr/sbin/cupsd -l\n",
      "tcloudo+ 30729  0.0  0.3 583792 13508 ?        Sl   Jul14   0:27 /usr/lib/gvfs/gvfsd-recent --spawner :1.6 /org/gtk/gvfs/exec_spaw/3\n",
      "\n"
     ]
    }
   ],
   "source": [
    "print cmd_output"
   ]
  },
  {
   "cell_type": "code",
   "execution_count": 8,
   "metadata": {
    "collapsed": false
   },
   "outputs": [
    {
     "data": {
      "text/plain": [
       "str"
      ]
     },
     "execution_count": 8,
     "metadata": {},
     "output_type": "execute_result"
    }
   ],
   "source": [
    "type(cmd_output)"
   ]
  },
  {
   "cell_type": "code",
   "execution_count": 14,
   "metadata": {
    "collapsed": false
   },
   "outputs": [
    {
     "name": "stdout",
     "output_type": "stream",
     "text": [
      "tcloudo+ 19072  0.5  1.6 1414864 66292 ?       Ssl  02:05   1:46 /opt/sublime_text/sublime_text\n",
      "tcloudo+ 19096  0.0  1.0 303944 40760 ?        Sl   02:06   0:10 /opt/sublime_text/plugin_host 19072\n"
     ]
    }
   ],
   "source": [
    "for process in cmd_output.splitlines():\n",
    "    if 'sublime' in process:\n",
    "        #print process[8:15]\n",
    "        print process\n",
    "    "
   ]
  },
  {
   "cell_type": "code",
   "execution_count": 15,
   "metadata": {
    "collapsed": false
   },
   "outputs": [
    {
     "name": "stdout",
     "output_type": "stream",
     "text": [
      "['tcloudo+', '19072', '0.5', '1.6', '1414864', '66292', '?', 'Ssl', '02:05', '1:46', '/opt/sublime_text/sublime_text']\n",
      "['tcloudo+', '19096', '0.0', '1.0', '303944', '40760', '?', 'Sl', '02:06', '0:10', '/opt/sublime_text/plugin_host', '19072']\n"
     ]
    }
   ],
   "source": [
    "for process in cmd_output.splitlines():\n",
    "    if 'sublime' in process:\n",
    "        #print process[8:15]\n",
    "        print process.split()\n",
    "    "
   ]
  },
  {
   "cell_type": "code",
   "execution_count": 16,
   "metadata": {
    "collapsed": false
   },
   "outputs": [
    {
     "name": "stdout",
     "output_type": "stream",
     "text": [
      "19072\n",
      "19096\n"
     ]
    }
   ],
   "source": [
    "for process in cmd_output.splitlines():\n",
    "    if 'sublime' in process:\n",
    "        #print process[8:15]\n",
    "        print process.split()[1]\n",
    "    "
   ]
  },
  {
   "cell_type": "code",
   "execution_count": 17,
   "metadata": {
    "collapsed": false
   },
   "outputs": [
    {
     "name": "stdout",
     "output_type": "stream",
     "text": [
      "killing the process: 19072\n"
     ]
    }
   ],
   "source": [
    "for process in cmd_output.splitlines():\n",
    "    if 'sublime' in process:\n",
    "        #print process[8:15]\n",
    "        pid = process.split()[1]\n",
    "        print \"killing the process: %s\" % pid\n",
    "        os.system(\"kill -9 %s\" % pid)\n",
    "        break\n",
    "    "
   ]
  },
  {
   "cell_type": "code",
   "execution_count": 1,
   "metadata": {
    "collapsed": false
   },
   "outputs": [],
   "source": [
    "import paramiko as pmk"
   ]
  },
  {
   "cell_type": "code",
   "execution_count": 4,
   "metadata": {
    "collapsed": false
   },
   "outputs": [],
   "source": [
    "ssh = pmk.SSHClient()\n",
    "ssh.set_missing_host_key_policy(pmk.AutoAddPolicy())\n",
    "ssh.connect('127.0.0.1',username='tcloudost',password='pythonrocks')\n"
   ]
  },
  {
   "cell_type": "code",
   "execution_count": 5,
   "metadata": {
    "collapsed": true
   },
   "outputs": [],
   "source": [
    "inp, outp, errp = ssh.exec_command('ls -l')"
   ]
  },
  {
   "cell_type": "code",
   "execution_count": 6,
   "metadata": {
    "collapsed": false
   },
   "outputs": [
    {
     "name": "stdout",
     "output_type": "stream",
     "text": [
      "<paramiko.ChannelFile from <paramiko.Channel 0 (closed) -> <paramiko.Transport at 0xea289b90L (cipher aes128-ctr, 128 bits) (active; 0 open channel(s))>>>\n"
     ]
    }
   ],
   "source": [
    "print outp"
   ]
  },
  {
   "cell_type": "code",
   "execution_count": 8,
   "metadata": {
    "collapsed": false
   },
   "outputs": [],
   "source": [
    "list_files = outp.readlines()"
   ]
  },
  {
   "cell_type": "code",
   "execution_count": 9,
   "metadata": {
    "collapsed": false
   },
   "outputs": [
    {
     "name": "stdout",
     "output_type": "stream",
     "text": [
      "[u'total 404\\n', u'drwxrwxr-x 20 tcloudost tcloudost  4096 Jul 16 07:46 anac3\\n', u'drwxrwxr-x 18 tcloudost tcloudost  4096 Apr  1 09:46 anaconda2\\n', u'drwxrwxr-x  2 tcloudost tcloudost  4096 May  6 11:24 app\\n', u'drwxrwxr-x  3 tcloudost tcloudost  4096 Jun  3 09:16 app1\\n', u'drwxrwxr-x  3 tcloudost tcloudost  4096 Jun 25  2016 app1_name\\n', u'drwxrwxr-x  3 tcloudost tcloudost  4096 Jun  3 09:09 app2\\n', u'drwxrwxr-x  3 tcloudost tcloudost  4096 Jun  3 09:23 app3\\n', u'drwxrwxr-x  2 tcloudost tcloudost  4096 Jun 25  2016 app_name\\n', u'-rw-rw-r--  1 tcloudost tcloudost     5 May  6 11:21 app.py\\n', u'-rw-rw-r--  1 tcloudost tcloudost    20 Mar  9 08:13 a.py\\n', u'-rw-rw-r--  1 tcloudost tcloudost    74 May 22  2016 a.py~\\n', u'drwxrwxr-x  2 tcloudost tcloudost  4096 May 23  2016 batch\\n', u'drwxr-xr-x  2 root      root       4096 Oct 15  2016 cgi-bin\\n', u'-rw-rw-r--  1 tcloudost tcloudost  1234 Oct 15  2016 cgi-bin.zip\\n', u'-rw-rw-r--  1 tcloudost tcloudost     0 Apr 16 20:31 content.txt\\n', u'-rw-rw-r--  1 tcloudost tcloudost   652 May 20  2016 course content.text\\n', u'-rw-rw-r--  1 tcloudost tcloudost   652 May 20  2016 course content.text~\\n', u'-rw-rw-r--  1 tcloudost tcloudost    98 May  6 11:54 data.txt\\n', u'drwxr-xr-x  2 tcloudost tcloudost  4096 Jul  4 17:16 Desktop\\n', u'drwxrwxr-x  2 tcloudost tcloudost  4096 Dec 31  2016 dir1\\n', u'drwxr-xr-x  5 tcloudost tcloudost  4096 May  9 08:30 Documents\\n', u'drwxr-xr-x  9 tcloudost tcloudost 12288 Jul 15 12:47 Downloads\\n', u'-rw-r--r--  1 tcloudost tcloudost  8980 Mar 10  2016 examples.desktop\\n', u'-rw-rw-r--  1 tcloudost tcloudost   141 Jul  8 13:13 features of python\\n', u'-rw-rw-r--  1 tcloudost tcloudost   111 Jul  1 10:57 features of python~\\n', u'-rw-rw-r--  1 tcloudost tcloudost    87 Jul 31  2016 file1.py\\n', u'-rw-rw-r--  1 tcloudost tcloudost   172 Jul 31  2016 file1.pyc\\n', u'-rw-rw-r--  1 tcloudost tcloudost  2302 Jun  3 09:00 file3.py\\n', u'-rw-rw-r--  1 tcloudost tcloudost  2302 Jun  3 09:01 file4.py\\n', u'-rw-rw-r--  1 tcloudost tcloudost    20 Jul  1  2016 first.py\\n', u'-rw-rw-r--  1 tcloudost tcloudost     0 Jul  1  2016 first.py~\\n', u'drwxrwxr-x  2 tcloudost tcloudost  4096 Jul  9  2016 hom_custom\\n', u'-rw-rw-r--  1 tcloudost tcloudost     0 May 22 08:55 installation.txt\\n', u'-rw-rw-r--  1 tcloudost tcloudost   668 Nov 27  2016 Lab07.py\\n', u'-rw-rw-r--  1 tcloudost tcloudost 43291 Nov 13  2016 m1.jpg\\n', u'-rw-rw-r--  1 tcloudost tcloudost 11033 Mar  9 08:11 memory organization in python.ipynb\\n', u'drwxrwxr-x  2 tcloudost tcloudost  4096 Jun  4 11:03 mod12\\n', u'-rw-rw-r--  1 tcloudost tcloudost   826 Mar 10 07:43 module1.ipynb\\n', u'drwxr-xr-x  2 tcloudost tcloudost  4096 Mar 10  2016 Music\\n', u'drwxrwxr-x  2 tcloudost tcloudost  4096 Oct  4  2016 mydear\\n', u'-rw-rw-r--  1 tcloudost tcloudost  1561 Jun 16  2016 nginx_signing.key\\n', u'-rw-rw-r--  1 tcloudost tcloudost   787 Mar 12 11:47 ownjson.py\\n', u'drwxrwxr-x  2 tcloudost tcloudost  4096 Nov 26  2016 paramiko123\\n', u'drwxrwxr-x  2 tcloudost tcloudost  4096 Nov 26  2016 path1\\n', u'-rw-rw-r--  1 tcloudost tcloudost  2302 Jun  3 09:00 personsinfo.csv\\n', u'-rw-rw-r--  1 tcloudost tcloudost   111 Nov 17  2016 personsinfo.csv~\\n', u'-rw-rw-r--  1 tcloudost tcloudost  1174 Jun 29 07:28 pgadmin.log\\n', u'drwxr-xr-x  2 tcloudost tcloudost  4096 Aug 14  2016 Pictures\\n', u'drwxr-xr-x  2 tcloudost tcloudost  4096 Mar 10  2016 Public\\n', u'-rw-rw-r--  1 tcloudost tcloudost 20247 Jul 30  2016 python2.ipynb\\n', u'drwxrwxr-x 18 tcloudost tcloudost  4096 Jul 11 07:13 pythonexamples\\n', u'-rw-rw-r--  1 tcloudost tcloudost  3231 Jul  2  2016 python_modules\\n', u'drwxrwxr-x  2 tcloudost tcloudost  4096 Apr 13  2016 python_softwares\\n', u'-rw-rw-r--  1 tcloudost tcloudost   261 Apr  5  2016 qw.html~\\n', u'-rw-rw-r--  1 tcloudost tcloudost  1469 Aug 31  2016 spyder_crash.log\\n', u'drwxrwxr-x  2 tcloudost tcloudost  4096 Jan 27 08:21 ssh_folder1\\n', u'drwxr-xr-x  2 tcloudost tcloudost  4096 Mar 10  2016 Templates\\n', u'-rw-rw-r--  1 tcloudost tcloudost  5937 Feb 11 11:12 Untitled10.ipynb\\n', u'-rw-rw-r--  1 tcloudost tcloudost  8582 Feb 28 08:17 Untitled11.ipynb\\n', u'-rw-rw-r--  1 tcloudost tcloudost  7866 Mar  8 07:33 Untitled12.ipynb\\n', u'-rw-rw-r--  1 tcloudost tcloudost    72 Mar 10 07:20 Untitled13.ipynb\\n', u'-rw-rw-r--  1 tcloudost tcloudost  5981 Mar 26 10:54 Untitled14.ipynb\\n', u'-rw-rw-r--  1 tcloudost tcloudost  2103 Aug 11  2016 Untitled1.ipynb\\n', u'-rw-rw-r--  1 tcloudost tcloudost   959 Aug 16  2016 Untitled2.ipynb\\n', u'-rw-rw-r--  1 tcloudost tcloudost  2796 Sep 14  2016 Untitled3.ipynb\\n', u'-rw-rw-r--  1 tcloudost tcloudost 15568 Sep 18  2016 Untitled4.ipynb\\n', u'-rw-rw-r--  1 tcloudost tcloudost    72 Oct 18  2016 Untitled5.ipynb\\n', u'-rw-rw-r--  1 tcloudost tcloudost  3809 Nov  5  2016 Untitled6.ipynb\\n', u'-rw-rw-r--  1 tcloudost tcloudost  5171 Nov  5  2016 Untitled7.ipynb\\n', u'-rw-rw-r--  1 tcloudost tcloudost  1891 Nov 27  2016 Untitled8.ipynb\\n', u'-rw-rw-r--  1 tcloudost tcloudost  6342 Dec 30  2016 Untitled9.ipynb\\n', u'-rw-rw-r--  1 tcloudost tcloudost   398 Aug 16  2016 Untitled Document 1\\n', u'-rw-rw-r--  1 tcloudost tcloudost   582 May 24  2016 Untitled.ipynb\\n', u'drwxr-xr-x  2 tcloudost tcloudost  4096 Mar 10  2016 Videos\\n']\n"
     ]
    }
   ],
   "source": [
    "print list_files"
   ]
  },
  {
   "cell_type": "code",
   "execution_count": 10,
   "metadata": {
    "collapsed": true
   },
   "outputs": [],
   "source": [
    "sftp = ssh.open_sftp()"
   ]
  },
  {
   "cell_type": "code",
   "execution_count": 12,
   "metadata": {
    "collapsed": true
   },
   "outputs": [],
   "source": [
    "sftp.get('/home/tcloudost/pythonexamples/batch30/a.py','/home/tcloudost/pythonexamples/batch29/a.py')"
   ]
  },
  {
   "cell_type": "code",
   "execution_count": null,
   "metadata": {
    "collapsed": true
   },
   "outputs": [],
   "source": []
  }
 ],
 "metadata": {
  "kernelspec": {
   "display_name": "Python 2",
   "language": "python",
   "name": "python2"
  },
  "language_info": {
   "codemirror_mode": {
    "name": "ipython",
    "version": 2
   },
   "file_extension": ".py",
   "mimetype": "text/x-python",
   "name": "python",
   "nbconvert_exporter": "python",
   "pygments_lexer": "ipython2",
   "version": "2.7.13"
  }
 },
 "nbformat": 4,
 "nbformat_minor": 2
}
