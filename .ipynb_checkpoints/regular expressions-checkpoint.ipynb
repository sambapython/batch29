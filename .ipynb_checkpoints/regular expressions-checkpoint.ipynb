{
 "cells": [
  {
   "cell_type": "raw",
   "metadata": {},
   "source": []
  },
  {
   "cell_type": "code",
   "execution_count": 1,
   "metadata": {
    "collapsed": true
   },
   "outputs": [],
   "source": [
    "import re"
   ]
  },
  {
   "cell_type": "code",
   "execution_count": 2,
   "metadata": {
    "collapsed": false
   },
   "outputs": [
    {
     "data": {
      "text/plain": [
       "['email', 'email']"
      ]
     },
     "execution_count": 2,
     "metadata": {},
     "output_type": "execute_result"
    }
   ],
   "source": [
    "data = open('data.csv').read()\n",
    "re.findall('email',data)"
   ]
  },
  {
   "cell_type": "code",
   "execution_count": 3,
   "metadata": {
    "collapsed": false
   },
   "outputs": [
    {
     "data": {
      "text/plain": [
       "2"
      ]
     },
     "execution_count": 3,
     "metadata": {},
     "output_type": "execute_result"
    }
   ],
   "source": [
    "data.count('email')"
   ]
  },
  {
   "cell_type": "code",
   "execution_count": 4,
   "metadata": {
    "collapsed": false
   },
   "outputs": [
    {
     "data": {
      "text/plain": [
       "['a', 'a', 'a', 'c', 'a', 'a', 'a', 'c', 'a', 'c', 'a']"
      ]
     },
     "execution_count": 4,
     "metadata": {},
     "output_type": "execute_result"
    }
   ],
   "source": [
    "# [],{},?+*$^.\n",
    "data = open('data.csv').read()\n",
    "re.findall('[abc]',data)"
   ]
  },
  {
   "cell_type": "code",
   "execution_count": 5,
   "metadata": {
    "collapsed": false
   },
   "outputs": [
    {
     "data": {
      "text/plain": [
       "['n',\n",
       " 'a',\n",
       " 'm',\n",
       " 'e',\n",
       " 'e',\n",
       " 'm',\n",
       " 'a',\n",
       " 'i',\n",
       " 'l',\n",
       " 'g',\n",
       " 'm',\n",
       " 'a',\n",
       " 'i',\n",
       " 'l',\n",
       " 'c',\n",
       " 'o',\n",
       " 'm',\n",
       " 'n',\n",
       " 'a',\n",
       " 'm',\n",
       " 'e',\n",
       " 'm',\n",
       " 'a',\n",
       " 'i',\n",
       " 'l',\n",
       " 'y',\n",
       " 'a',\n",
       " 'h',\n",
       " 'o',\n",
       " 'o',\n",
       " 'c',\n",
       " 'o',\n",
       " 'i',\n",
       " 'n',\n",
       " 'e',\n",
       " 'm',\n",
       " 'a',\n",
       " 'i',\n",
       " 'l',\n",
       " 'r',\n",
       " 'e',\n",
       " 'd',\n",
       " 'i',\n",
       " 'f',\n",
       " 'f',\n",
       " 'c',\n",
       " 'o',\n",
       " 'm',\n",
       " 'n',\n",
       " 'a',\n",
       " 'm',\n",
       " 'e']"
      ]
     },
     "execution_count": 5,
     "metadata": {},
     "output_type": "execute_result"
    }
   ],
   "source": [
    "# [],{},?+*$^.\n",
    "data = open('data.csv').read()\n",
    "re.findall('[a-z]',data)"
   ]
  },
  {
   "cell_type": "code",
   "execution_count": 6,
   "metadata": {
    "collapsed": false
   },
   "outputs": [
    {
     "data": {
      "text/plain": [
       "['e1', 'l1', 'e2', 'l2', 'l3', 'e3']"
      ]
     },
     "execution_count": 6,
     "metadata": {},
     "output_type": "execute_result"
    }
   ],
   "source": [
    "# [],{},?+*$^.\n",
    "data = open('data.csv').read()\n",
    "re.findall('[a-z][0-9]',data)"
   ]
  },
  {
   "cell_type": "code",
   "execution_count": 7,
   "metadata": {
    "collapsed": false
   },
   "outputs": [
    {
     "data": {
      "text/plain": [
       "['e1', 'l1', 'e2', 'l2', 'l3', 'e3']"
      ]
     },
     "execution_count": 7,
     "metadata": {},
     "output_type": "execute_result"
    }
   ],
   "source": [
    "# [],{},?+*$^.\n",
    "data = open('data.csv').read()\n",
    "re.findall('[a-zA-Z][0-9]',data)"
   ]
  },
  {
   "cell_type": "code",
   "execution_count": 8,
   "metadata": {
    "collapsed": false
   },
   "outputs": [
    {
     "data": {
      "text/plain": [
       "['e1', 'l1', 'e2', 'l2', 'l3', 'e3']"
      ]
     },
     "execution_count": 8,
     "metadata": {},
     "output_type": "execute_result"
    }
   ],
   "source": [
    "# [],{},?+*$^.\n",
    "data = open('data.csv').read()\n",
    "re.findall('[a-z][0-9]',data,re.I)"
   ]
  },
  {
   "cell_type": "code",
   "execution_count": 9,
   "metadata": {
    "collapsed": false
   },
   "outputs": [
    {
     "name": "stdout",
     "output_type": "stream",
     "text": [
      "1,name1,8909876564,email1@gmail.com\n",
      "name2,8909876564,Email2@yahoo.co.in,2\n",
      "3,email3@rediff.com,8909876564,name3\n"
     ]
    },
    {
     "data": {
      "text/plain": [
       "['n',\n",
       " 'a',\n",
       " 'm',\n",
       " 'e',\n",
       " 'e',\n",
       " 'm',\n",
       " 'a',\n",
       " 'i',\n",
       " 'l',\n",
       " 'g',\n",
       " 'm',\n",
       " 'a',\n",
       " 'i',\n",
       " 'l',\n",
       " 'c',\n",
       " 'o',\n",
       " 'm',\n",
       " 'n',\n",
       " 'a',\n",
       " 'm',\n",
       " 'e',\n",
       " 'E',\n",
       " 'm',\n",
       " 'a',\n",
       " 'i',\n",
       " 'l',\n",
       " 'y',\n",
       " 'a',\n",
       " 'h',\n",
       " 'o',\n",
       " 'o',\n",
       " 'c',\n",
       " 'o',\n",
       " 'i',\n",
       " 'n',\n",
       " 'e',\n",
       " 'm',\n",
       " 'a',\n",
       " 'i',\n",
       " 'l',\n",
       " 'r',\n",
       " 'e',\n",
       " 'd',\n",
       " 'i',\n",
       " 'f',\n",
       " 'f',\n",
       " 'c',\n",
       " 'o',\n",
       " 'm',\n",
       " 'n',\n",
       " 'a',\n",
       " 'm',\n",
       " 'e']"
      ]
     },
     "execution_count": 9,
     "metadata": {},
     "output_type": "execute_result"
    }
   ],
   "source": [
    "# [],{},?+*$^.\n",
    "data = open('data.csv').read()\n",
    "print data\n",
    "re.findall('[a-z]',data,re.I)"
   ]
  },
  {
   "cell_type": "code",
   "execution_count": 10,
   "metadata": {
    "collapsed": false
   },
   "outputs": [
    {
     "name": "stdout",
     "output_type": "stream",
     "text": [
      "1,name1,8909876564,email1@gmail.com\n",
      "name2,8909876564,Email2@yahoo.co.in,2\n",
      "3,email3@rediff.com,8909876564,name3\n"
     ]
    },
    {
     "data": {
      "text/plain": [
       "['n',\n",
       " 'a',\n",
       " 'm',\n",
       " 'e',\n",
       " 'e',\n",
       " 'm',\n",
       " 'a',\n",
       " 'i',\n",
       " 'l',\n",
       " '@',\n",
       " 'g',\n",
       " 'm',\n",
       " 'a',\n",
       " 'i',\n",
       " 'l',\n",
       " 'c',\n",
       " 'o',\n",
       " 'm',\n",
       " 'n',\n",
       " 'a',\n",
       " 'm',\n",
       " 'e',\n",
       " 'E',\n",
       " 'm',\n",
       " 'a',\n",
       " 'i',\n",
       " 'l',\n",
       " '@',\n",
       " 'y',\n",
       " 'a',\n",
       " 'h',\n",
       " 'o',\n",
       " 'o',\n",
       " 'c',\n",
       " 'o',\n",
       " 'i',\n",
       " 'n',\n",
       " 'e',\n",
       " 'm',\n",
       " 'a',\n",
       " 'i',\n",
       " 'l',\n",
       " '@',\n",
       " 'r',\n",
       " 'e',\n",
       " 'd',\n",
       " 'i',\n",
       " 'f',\n",
       " 'f',\n",
       " 'c',\n",
       " 'o',\n",
       " 'm',\n",
       " 'n',\n",
       " 'a',\n",
       " 'm',\n",
       " 'e']"
      ]
     },
     "execution_count": 10,
     "metadata": {},
     "output_type": "execute_result"
    }
   ],
   "source": [
    "# [],{},?+*$^.\n",
    "data = open('data.csv').read()\n",
    "print data\n",
    "re.findall('[a-z@]',data,re.I)"
   ]
  },
  {
   "cell_type": "code",
   "execution_count": 11,
   "metadata": {
    "collapsed": false
   },
   "outputs": [
    {
     "name": "stdout",
     "output_type": "stream",
     "text": [
      "1,name1,8909876564,email1@gmail.com\n",
      "name2,8909876564,Email2@yahoo.co.in,2\n",
      "3,email3@rediff.com,8909876564,name3\n"
     ]
    },
    {
     "data": {
      "text/plain": [
       "[',',\n",
       " 'n',\n",
       " 'a',\n",
       " 'm',\n",
       " 'e',\n",
       " ',',\n",
       " ',',\n",
       " 'e',\n",
       " 'm',\n",
       " 'a',\n",
       " 'i',\n",
       " 'l',\n",
       " '@',\n",
       " 'g',\n",
       " 'm',\n",
       " 'a',\n",
       " 'i',\n",
       " 'l',\n",
       " 'c',\n",
       " 'o',\n",
       " 'm',\n",
       " 'n',\n",
       " 'a',\n",
       " 'm',\n",
       " 'e',\n",
       " ',',\n",
       " ',',\n",
       " 'E',\n",
       " 'm',\n",
       " 'a',\n",
       " 'i',\n",
       " 'l',\n",
       " '@',\n",
       " 'y',\n",
       " 'a',\n",
       " 'h',\n",
       " 'o',\n",
       " 'o',\n",
       " 'c',\n",
       " 'o',\n",
       " 'i',\n",
       " 'n',\n",
       " ',',\n",
       " ',',\n",
       " 'e',\n",
       " 'm',\n",
       " 'a',\n",
       " 'i',\n",
       " 'l',\n",
       " '@',\n",
       " 'r',\n",
       " 'e',\n",
       " 'd',\n",
       " 'i',\n",
       " 'f',\n",
       " 'f',\n",
       " 'c',\n",
       " 'o',\n",
       " 'm',\n",
       " ',',\n",
       " ',',\n",
       " 'n',\n",
       " 'a',\n",
       " 'm',\n",
       " 'e']"
      ]
     },
     "execution_count": 11,
     "metadata": {},
     "output_type": "execute_result"
    }
   ],
   "source": [
    "# [],{},?+*$^.\n",
    "data = open('data.csv').read()\n",
    "print data\n",
    "re.findall('[a-z@,]',data,re.I)"
   ]
  },
  {
   "cell_type": "code",
   "execution_count": 12,
   "metadata": {
    "collapsed": false
   },
   "outputs": [
    {
     "name": "stdout",
     "output_type": "stream",
     "text": [
      "1,name1,8909876564,email1@gmail.com\n",
      "name2,8909876564,Email2@yahoo.co.in,2\n",
      "3,email3@rediff.com,8909876564,name3\n"
     ]
    },
    {
     "data": {
      "text/plain": [
       "['1',\n",
       " 'n',\n",
       " 'a',\n",
       " 'm',\n",
       " 'e',\n",
       " '1',\n",
       " '8',\n",
       " '9',\n",
       " '0',\n",
       " '9',\n",
       " '8',\n",
       " '7',\n",
       " '6',\n",
       " '5',\n",
       " '6',\n",
       " '4',\n",
       " 'e',\n",
       " 'm',\n",
       " 'a',\n",
       " 'i',\n",
       " 'l',\n",
       " '1',\n",
       " '@',\n",
       " 'g',\n",
       " 'm',\n",
       " 'a',\n",
       " 'i',\n",
       " 'l',\n",
       " 'c',\n",
       " 'o',\n",
       " 'm',\n",
       " 'n',\n",
       " 'a',\n",
       " 'm',\n",
       " 'e',\n",
       " '2',\n",
       " '8',\n",
       " '9',\n",
       " '0',\n",
       " '9',\n",
       " '8',\n",
       " '7',\n",
       " '6',\n",
       " '5',\n",
       " '6',\n",
       " '4',\n",
       " 'E',\n",
       " 'm',\n",
       " 'a',\n",
       " 'i',\n",
       " 'l',\n",
       " '2',\n",
       " '@',\n",
       " 'y',\n",
       " 'a',\n",
       " 'h',\n",
       " 'o',\n",
       " 'o',\n",
       " 'c',\n",
       " 'o',\n",
       " 'i',\n",
       " 'n',\n",
       " '2',\n",
       " '3',\n",
       " 'e',\n",
       " 'm',\n",
       " 'a',\n",
       " 'i',\n",
       " 'l',\n",
       " '3',\n",
       " '@',\n",
       " 'r',\n",
       " 'e',\n",
       " 'd',\n",
       " 'i',\n",
       " 'f',\n",
       " 'f',\n",
       " 'c',\n",
       " 'o',\n",
       " 'm',\n",
       " '8',\n",
       " '9',\n",
       " '0',\n",
       " '9',\n",
       " '8',\n",
       " '7',\n",
       " '6',\n",
       " '5',\n",
       " '6',\n",
       " '4',\n",
       " 'n',\n",
       " 'a',\n",
       " 'm',\n",
       " 'e',\n",
       " '3']"
      ]
     },
     "execution_count": 12,
     "metadata": {},
     "output_type": "execute_result"
    }
   ],
   "source": [
    "# [],{},?+*$^.\n",
    "data = open('data.csv').read()\n",
    "print data\n",
    "re.findall('[a-z@0-9]',data,re.I)"
   ]
  },
  {
   "cell_type": "code",
   "execution_count": 13,
   "metadata": {
    "collapsed": false
   },
   "outputs": [
    {
     "name": "stdout",
     "output_type": "stream",
     "text": [
      "1,name1,8909876564,email1@gmail.com\n",
      "name2,8909876564,Email2@yahoo.co.in,2\n",
      "3,email3@rediff.com,8909876564,name3\n"
     ]
    },
    {
     "data": {
      "text/plain": [
       "['e1', 'l1', 'e2', 'l2', 'l3', 'e3']"
      ]
     },
     "execution_count": 13,
     "metadata": {},
     "output_type": "execute_result"
    }
   ],
   "source": [
    "# [],{},?+*$^.\n",
    "data = open('data.csv').read()\n",
    "print data\n",
    "re.findall('[a-z@][0-9]',data,re.I)"
   ]
  },
  {
   "cell_type": "code",
   "execution_count": 14,
   "metadata": {
    "collapsed": false
   },
   "outputs": [
    {
     "name": "stdout",
     "output_type": "stream",
     "text": [
      "1,name1,8909876564,email1@gmail.com\n",
      "name2,8909876564,Email2@yahoo.co.in,2\n",
      "3,email3@rediff.com,8909876564,name3\n"
     ]
    },
    {
     "data": {
      "text/plain": [
       "['me1', 'il1', 'me2', 'il2', 'il3', 'me3']"
      ]
     },
     "execution_count": 14,
     "metadata": {},
     "output_type": "execute_result"
    }
   ],
   "source": [
    "# [],{},?+*$^.\n",
    "data = open('data.csv').read()\n",
    "print data\n",
    "re.findall('[a-z][a-z][0-9]',data,re.I)"
   ]
  },
  {
   "cell_type": "code",
   "execution_count": 15,
   "metadata": {
    "collapsed": false
   },
   "outputs": [
    {
     "name": "stdout",
     "output_type": "stream",
     "text": [
      "1,name1,8909876564,email1@gmail.com\n",
      "name2,8909876564,Email2@yahoo.co.in,2\n",
      "3,email3@rediff.com,8909876564,name3\n"
     ]
    },
    {
     "data": {
      "text/plain": [
       "['89098', '76564', '89098', '76564', '89098', '76564']"
      ]
     },
     "execution_count": 15,
     "metadata": {},
     "output_type": "execute_result"
    }
   ],
   "source": [
    "# [],{},?+*$^.\n",
    "data = open('data.csv').read()\n",
    "print data\n",
    "re.findall('[0-9][0-9][0-9][0-9][0-9]',data,re.I)"
   ]
  },
  {
   "cell_type": "code",
   "execution_count": 16,
   "metadata": {
    "collapsed": false
   },
   "outputs": [
    {
     "name": "stdout",
     "output_type": "stream",
     "text": [
      "1,name1,8909876564,email1@gmail.com\n",
      "name2,8909876564,Email2@yahoo.co.in,2\n",
      "3,email3@rediff.com,8909876564,name3\n"
     ]
    },
    {
     "data": {
      "text/plain": [
       "['8909876564', '8909876564', '8909876564']"
      ]
     },
     "execution_count": 16,
     "metadata": {},
     "output_type": "execute_result"
    }
   ],
   "source": [
    "# [],{},?+*$^.\n",
    "data = open('data.csv').read()\n",
    "print data\n",
    "re.findall('[0-9]{10}',data,re.I)"
   ]
  },
  {
   "cell_type": "code",
   "execution_count": 17,
   "metadata": {
    "collapsed": false
   },
   "outputs": [
    {
     "name": "stdout",
     "output_type": "stream",
     "text": [
      "1,name1,8909876564,email1@gmail.com\n",
      "name2,8909876564,Email2@yahoo.co.in,2\n",
      "3,email3@rediff.com,8909876564,name3\n"
     ]
    },
    {
     "data": {
      "text/plain": [
       "['8909876564', '8909876564', '8909876564']"
      ]
     },
     "execution_count": 17,
     "metadata": {},
     "output_type": "execute_result"
    }
   ],
   "source": [
    "# [],{},?+*$^.\n",
    "data = open('data.csv').read()\n",
    "print data\n",
    "re.findall('[0-9]{5,10}',data,re.I)"
   ]
  },
  {
   "cell_type": "code",
   "execution_count": 18,
   "metadata": {
    "collapsed": false
   },
   "outputs": [
    {
     "name": "stdout",
     "output_type": "stream",
     "text": [
      "1,name1,8909876564,email1@gmail.com\n",
      "name2,8909876564,Email2@yahoo.co.in,2\n",
      "3,email3@rediff.com,8909876564,name3\n"
     ]
    },
    {
     "data": {
      "text/plain": [
       "['1',\n",
       " '1',\n",
       " '8909876564',\n",
       " '1',\n",
       " '2',\n",
       " '8909876564',\n",
       " '2',\n",
       " '2',\n",
       " '3',\n",
       " '3',\n",
       " '8909876564',\n",
       " '3']"
      ]
     },
     "execution_count": 18,
     "metadata": {},
     "output_type": "execute_result"
    }
   ],
   "source": [
    "# [],{},?+*$^.\n",
    "data = open('data.csv').read()\n",
    "print data\n",
    "re.findall('[0-9]{1,10}',data,re.I)"
   ]
  },
  {
   "cell_type": "code",
   "execution_count": 19,
   "metadata": {
    "collapsed": false
   },
   "outputs": [
    {
     "name": "stdout",
     "output_type": "stream",
     "text": [
      "1,name1,8909876564,email1@gmail.com\n",
      "name2,8909876564,Email2@yahoo.co.in,2\n",
      "3,email3@rediff.com,8909876564,name3\n"
     ]
    },
    {
     "data": {
      "text/plain": [
       "['1',\n",
       " '1',\n",
       " '8909876564',\n",
       " '1',\n",
       " '2',\n",
       " '8909876564',\n",
       " '2',\n",
       " '2',\n",
       " '3',\n",
       " '3',\n",
       " '8909876564',\n",
       " '3']"
      ]
     },
     "execution_count": 19,
     "metadata": {},
     "output_type": "execute_result"
    }
   ],
   "source": [
    "# [],{},?+*$^.\n",
    "data = open('data.csv').read()\n",
    "print data\n",
    "re.findall('[0-9]{1,}',data,re.I)"
   ]
  },
  {
   "cell_type": "code",
   "execution_count": 20,
   "metadata": {
    "collapsed": false
   },
   "outputs": [
    {
     "name": "stdout",
     "output_type": "stream",
     "text": [
      "1,name1,8909876564,email1@gmail.com\n",
      "name2,8909876564,Email2@yahoo.co.in,2\n",
      "3,email3@rediff.com,8909876564,name3\n"
     ]
    },
    {
     "data": {
      "text/plain": [
       "['1',\n",
       " '',\n",
       " '',\n",
       " '',\n",
       " '',\n",
       " '',\n",
       " '1',\n",
       " '',\n",
       " '89098',\n",
       " '76564',\n",
       " '',\n",
       " '',\n",
       " '',\n",
       " '',\n",
       " '',\n",
       " '',\n",
       " '1',\n",
       " '',\n",
       " '',\n",
       " '',\n",
       " '',\n",
       " '',\n",
       " '',\n",
       " '',\n",
       " '',\n",
       " '',\n",
       " '',\n",
       " '',\n",
       " '',\n",
       " '',\n",
       " '',\n",
       " '',\n",
       " '2',\n",
       " '',\n",
       " '89098',\n",
       " '76564',\n",
       " '',\n",
       " '',\n",
       " '',\n",
       " '',\n",
       " '',\n",
       " '',\n",
       " '2',\n",
       " '',\n",
       " '',\n",
       " '',\n",
       " '',\n",
       " '',\n",
       " '',\n",
       " '',\n",
       " '',\n",
       " '',\n",
       " '',\n",
       " '',\n",
       " '',\n",
       " '',\n",
       " '2',\n",
       " '',\n",
       " '3',\n",
       " '',\n",
       " '',\n",
       " '',\n",
       " '',\n",
       " '',\n",
       " '',\n",
       " '3',\n",
       " '',\n",
       " '',\n",
       " '',\n",
       " '',\n",
       " '',\n",
       " '',\n",
       " '',\n",
       " '',\n",
       " '',\n",
       " '',\n",
       " '',\n",
       " '',\n",
       " '89098',\n",
       " '76564',\n",
       " '',\n",
       " '',\n",
       " '',\n",
       " '',\n",
       " '',\n",
       " '3',\n",
       " '']"
      ]
     },
     "execution_count": 20,
     "metadata": {},
     "output_type": "execute_result"
    }
   ],
   "source": [
    "# [],{},?+*$^.\n",
    "data = open('data.csv').read()\n",
    "print data\n",
    "re.findall('[0-9]{,5}',data,re.I)"
   ]
  },
  {
   "cell_type": "code",
   "execution_count": 21,
   "metadata": {
    "collapsed": false
   },
   "outputs": [
    {
     "name": "stdout",
     "output_type": "stream",
     "text": [
      "1,name1,8909876564,email1@gmail.com\n",
      "name2,8909876564,Email2@yahoo.co.in,2\n",
      "3,email3@rediff.com,8909876564,name3\n"
     ]
    },
    {
     "data": {
      "text/plain": [
       "['1',\n",
       " '1',\n",
       " '8909876564',\n",
       " '1',\n",
       " '2',\n",
       " '8909876564',\n",
       " '2',\n",
       " '2',\n",
       " '3',\n",
       " '3',\n",
       " '8909876564',\n",
       " '3']"
      ]
     },
     "execution_count": 21,
     "metadata": {},
     "output_type": "execute_result"
    }
   ],
   "source": [
    "# [],{},?+*$^.\n",
    "data = open('data.csv').read()\n",
    "print data\n",
    "re.findall('[0-9]+',data,re.I)"
   ]
  },
  {
   "cell_type": "code",
   "execution_count": 23,
   "metadata": {
    "collapsed": false
   },
   "outputs": [
    {
     "name": "stdout",
     "output_type": "stream",
     "text": [
      "1,name1,8909876564,email1@gmail.com\n",
      "name2,8909876564,Email2@yahoo.co.in,2\n",
      "3,email3@rediff.com,8909876564,name3\n"
     ]
    },
    {
     "data": {
      "text/plain": [
       "['1',\n",
       " '',\n",
       " '',\n",
       " '',\n",
       " '',\n",
       " '',\n",
       " '1',\n",
       " '',\n",
       " '8',\n",
       " '9',\n",
       " '0',\n",
       " '9',\n",
       " '8',\n",
       " '7',\n",
       " '6',\n",
       " '5',\n",
       " '6',\n",
       " '4',\n",
       " '',\n",
       " '',\n",
       " '',\n",
       " '',\n",
       " '',\n",
       " '',\n",
       " '1',\n",
       " '',\n",
       " '',\n",
       " '',\n",
       " '',\n",
       " '',\n",
       " '',\n",
       " '',\n",
       " '',\n",
       " '',\n",
       " '',\n",
       " '',\n",
       " '',\n",
       " '',\n",
       " '',\n",
       " '',\n",
       " '2',\n",
       " '',\n",
       " '8',\n",
       " '9',\n",
       " '0',\n",
       " '9',\n",
       " '8',\n",
       " '7',\n",
       " '6',\n",
       " '5',\n",
       " '6',\n",
       " '4',\n",
       " '',\n",
       " '',\n",
       " '',\n",
       " '',\n",
       " '',\n",
       " '',\n",
       " '2',\n",
       " '',\n",
       " '',\n",
       " '',\n",
       " '',\n",
       " '',\n",
       " '',\n",
       " '',\n",
       " '',\n",
       " '',\n",
       " '',\n",
       " '',\n",
       " '',\n",
       " '',\n",
       " '2',\n",
       " '',\n",
       " '3',\n",
       " '',\n",
       " '',\n",
       " '',\n",
       " '',\n",
       " '',\n",
       " '',\n",
       " '3',\n",
       " '',\n",
       " '',\n",
       " '',\n",
       " '',\n",
       " '',\n",
       " '',\n",
       " '',\n",
       " '',\n",
       " '',\n",
       " '',\n",
       " '',\n",
       " '',\n",
       " '8',\n",
       " '9',\n",
       " '0',\n",
       " '9',\n",
       " '8',\n",
       " '7',\n",
       " '6',\n",
       " '5',\n",
       " '6',\n",
       " '4',\n",
       " '',\n",
       " '',\n",
       " '',\n",
       " '',\n",
       " '',\n",
       " '3',\n",
       " '']"
      ]
     },
     "execution_count": 23,
     "metadata": {},
     "output_type": "execute_result"
    }
   ],
   "source": [
    "# [],{},?+*$^.\n",
    "data = open('data.csv').read()\n",
    "print data\n",
    "re.findall('[0-9]?',data,re.I)"
   ]
  },
  {
   "cell_type": "code",
   "execution_count": 24,
   "metadata": {
    "collapsed": false
   },
   "outputs": [
    {
     "name": "stdout",
     "output_type": "stream",
     "text": [
      "1,name1,8909876564,email1@gmail.com\n",
      "name2,8909876564,Email2@yahoo.co.in,2\n",
      "3,email3@rediff.com,8909876564,name3\n"
     ]
    },
    {
     "data": {
      "text/plain": [
       "['1',\n",
       " '',\n",
       " '',\n",
       " '',\n",
       " '',\n",
       " '',\n",
       " '1',\n",
       " '',\n",
       " '8909876564',\n",
       " '',\n",
       " '',\n",
       " '',\n",
       " '',\n",
       " '',\n",
       " '',\n",
       " '1',\n",
       " '',\n",
       " '',\n",
       " '',\n",
       " '',\n",
       " '',\n",
       " '',\n",
       " '',\n",
       " '',\n",
       " '',\n",
       " '',\n",
       " '',\n",
       " '',\n",
       " '',\n",
       " '',\n",
       " '',\n",
       " '2',\n",
       " '',\n",
       " '8909876564',\n",
       " '',\n",
       " '',\n",
       " '',\n",
       " '',\n",
       " '',\n",
       " '',\n",
       " '2',\n",
       " '',\n",
       " '',\n",
       " '',\n",
       " '',\n",
       " '',\n",
       " '',\n",
       " '',\n",
       " '',\n",
       " '',\n",
       " '',\n",
       " '',\n",
       " '',\n",
       " '',\n",
       " '2',\n",
       " '',\n",
       " '3',\n",
       " '',\n",
       " '',\n",
       " '',\n",
       " '',\n",
       " '',\n",
       " '',\n",
       " '3',\n",
       " '',\n",
       " '',\n",
       " '',\n",
       " '',\n",
       " '',\n",
       " '',\n",
       " '',\n",
       " '',\n",
       " '',\n",
       " '',\n",
       " '',\n",
       " '',\n",
       " '8909876564',\n",
       " '',\n",
       " '',\n",
       " '',\n",
       " '',\n",
       " '',\n",
       " '3',\n",
       " '']"
      ]
     },
     "execution_count": 24,
     "metadata": {},
     "output_type": "execute_result"
    }
   ],
   "source": [
    "# [],{},?+*$^.\n",
    "data = open('data.csv').read()\n",
    "print data\n",
    "re.findall('[0-9]*',data,re.I)"
   ]
  },
  {
   "cell_type": "code",
   "execution_count": 25,
   "metadata": {
    "collapsed": false
   },
   "outputs": [
    {
     "data": {
      "text/plain": [
       "'1,name1,8909876564,email1@gmail.com\\nname2,8909876564,Email2@yahoo.co.in,2\\n3,email3@rediff.com,8909876564,name3'"
      ]
     },
     "execution_count": 25,
     "metadata": {},
     "output_type": "execute_result"
    }
   ],
   "source": [
    "# [],{},?+*$^.\n",
    "data = open('data.csv').read()\n",
    "data"
   ]
  },
  {
   "cell_type": "code",
   "execution_count": 26,
   "metadata": {
    "collapsed": false
   },
   "outputs": [
    {
     "name": "stdout",
     "output_type": "stream",
     "text": [
      "1,name1,8909876564,email1@gmail.com\n",
      "name2,8909876564,Email2@yahoo.co.in,2\n",
      "3,email3@rediff.com,8909876564,name3\n"
     ]
    },
    {
     "data": {
      "text/plain": [
       "['1',\n",
       " ',',\n",
       " 'n',\n",
       " 'a',\n",
       " 'm',\n",
       " 'e',\n",
       " '1',\n",
       " ',',\n",
       " '8',\n",
       " '9',\n",
       " '0',\n",
       " '9',\n",
       " '8',\n",
       " '7',\n",
       " '6',\n",
       " '5',\n",
       " '6',\n",
       " '4',\n",
       " ',',\n",
       " 'e',\n",
       " 'm',\n",
       " 'a',\n",
       " 'i',\n",
       " 'l',\n",
       " '1',\n",
       " '@',\n",
       " 'g',\n",
       " 'm',\n",
       " 'a',\n",
       " 'i',\n",
       " 'l',\n",
       " '.',\n",
       " 'c',\n",
       " 'o',\n",
       " 'm',\n",
       " 'n',\n",
       " 'a',\n",
       " 'm',\n",
       " 'e',\n",
       " '2',\n",
       " ',',\n",
       " '8',\n",
       " '9',\n",
       " '0',\n",
       " '9',\n",
       " '8',\n",
       " '7',\n",
       " '6',\n",
       " '5',\n",
       " '6',\n",
       " '4',\n",
       " ',',\n",
       " 'E',\n",
       " 'm',\n",
       " 'a',\n",
       " 'i',\n",
       " 'l',\n",
       " '2',\n",
       " '@',\n",
       " 'y',\n",
       " 'a',\n",
       " 'h',\n",
       " 'o',\n",
       " 'o',\n",
       " '.',\n",
       " 'c',\n",
       " 'o',\n",
       " '.',\n",
       " 'i',\n",
       " 'n',\n",
       " ',',\n",
       " '2',\n",
       " '3',\n",
       " ',',\n",
       " 'e',\n",
       " 'm',\n",
       " 'a',\n",
       " 'i',\n",
       " 'l',\n",
       " '3',\n",
       " '@',\n",
       " 'r',\n",
       " 'e',\n",
       " 'd',\n",
       " 'i',\n",
       " 'f',\n",
       " 'f',\n",
       " '.',\n",
       " 'c',\n",
       " 'o',\n",
       " 'm',\n",
       " ',',\n",
       " '8',\n",
       " '9',\n",
       " '0',\n",
       " '9',\n",
       " '8',\n",
       " '7',\n",
       " '6',\n",
       " '5',\n",
       " '6',\n",
       " '4',\n",
       " ',',\n",
       " 'n',\n",
       " 'a',\n",
       " 'm',\n",
       " 'e',\n",
       " '3']"
      ]
     },
     "execution_count": 26,
     "metadata": {},
     "output_type": "execute_result"
    }
   ],
   "source": [
    "# [],{},?+*$^.\n",
    "data = open('data.csv').read()\n",
    "print data\n",
    "re.findall('.',data,re.I)"
   ]
  },
  {
   "cell_type": "code",
   "execution_count": 27,
   "metadata": {
    "collapsed": false
   },
   "outputs": [
    {
     "name": "stdout",
     "output_type": "stream",
     "text": [
      "1,name1,8909876564,email1@gmail.com\n",
      "name2,8909876564,Email2@yahoo.co.in,2\n",
      "3,email3@rediff.com,8909876564,name3\n"
     ]
    },
    {
     "data": {
      "text/plain": [
       "['1',\n",
       " ',',\n",
       " 'n',\n",
       " 'a',\n",
       " 'm',\n",
       " 'e',\n",
       " '1',\n",
       " ',',\n",
       " '8',\n",
       " '9',\n",
       " '0',\n",
       " '9',\n",
       " '8',\n",
       " '7',\n",
       " '6',\n",
       " '5',\n",
       " '6',\n",
       " '4',\n",
       " ',',\n",
       " 'e',\n",
       " 'm',\n",
       " 'a',\n",
       " 'i',\n",
       " 'l',\n",
       " '1',\n",
       " '@',\n",
       " 'g',\n",
       " 'm',\n",
       " 'a',\n",
       " 'i',\n",
       " 'l',\n",
       " '.',\n",
       " 'c',\n",
       " 'o',\n",
       " 'm',\n",
       " '\\n',\n",
       " 'n',\n",
       " 'a',\n",
       " 'm',\n",
       " 'e',\n",
       " '2',\n",
       " ',',\n",
       " '8',\n",
       " '9',\n",
       " '0',\n",
       " '9',\n",
       " '8',\n",
       " '7',\n",
       " '6',\n",
       " '5',\n",
       " '6',\n",
       " '4',\n",
       " ',',\n",
       " 'E',\n",
       " 'm',\n",
       " 'a',\n",
       " 'i',\n",
       " 'l',\n",
       " '2',\n",
       " '@',\n",
       " 'y',\n",
       " 'a',\n",
       " 'h',\n",
       " 'o',\n",
       " 'o',\n",
       " '.',\n",
       " 'c',\n",
       " 'o',\n",
       " '.',\n",
       " 'i',\n",
       " 'n',\n",
       " ',',\n",
       " '2',\n",
       " '\\n',\n",
       " '3',\n",
       " ',',\n",
       " 'e',\n",
       " 'm',\n",
       " 'a',\n",
       " 'i',\n",
       " 'l',\n",
       " '3',\n",
       " '@',\n",
       " 'r',\n",
       " 'e',\n",
       " 'd',\n",
       " 'i',\n",
       " 'f',\n",
       " 'f',\n",
       " '.',\n",
       " 'c',\n",
       " 'o',\n",
       " 'm',\n",
       " ',',\n",
       " '8',\n",
       " '9',\n",
       " '0',\n",
       " '9',\n",
       " '8',\n",
       " '7',\n",
       " '6',\n",
       " '5',\n",
       " '6',\n",
       " '4',\n",
       " ',',\n",
       " 'n',\n",
       " 'a',\n",
       " 'm',\n",
       " 'e',\n",
       " '3']"
      ]
     },
     "execution_count": 27,
     "metadata": {},
     "output_type": "execute_result"
    }
   ],
   "source": [
    "# [],{},?+*$^.\n",
    "data = open('data.csv').read()\n",
    "print data\n",
    "re.findall('.',data,re.I|re.DOTALL)"
   ]
  },
  {
   "cell_type": "code",
   "execution_count": 28,
   "metadata": {
    "collapsed": false
   },
   "outputs": [
    {
     "data": {
      "text/plain": [
       "'1,name1,8909876564,email1@gmail.com\\nname2,8909876564,Email2@yahoo.co.in,2\\n3,email3@rediff.com,8909876564,name3'"
      ]
     },
     "execution_count": 28,
     "metadata": {},
     "output_type": "execute_result"
    }
   ],
   "source": [
    "data"
   ]
  },
  {
   "cell_type": "code",
   "execution_count": 29,
   "metadata": {
    "collapsed": false
   },
   "outputs": [
    {
     "name": "stdout",
     "output_type": "stream",
     "text": [
      "1,name1,8909876564,email1@gmail.com\n",
      "name2,8909876564,Email2@yahoo.co.in,2\n",
      "3,email3@rediff.com,8909876564,name3\n"
     ]
    }
   ],
   "source": [
    "print data"
   ]
  },
  {
   "cell_type": "code",
   "execution_count": 30,
   "metadata": {
    "collapsed": false
   },
   "outputs": [
    {
     "name": "stdout",
     "output_type": "stream",
     "text": [
      "1,name1,8909876564,email1@gmail.com\n",
      "name2,8909876564,Email2@yahoo.co.in,2\n",
      "3,email3@rediff.com,8909876564,name3\n"
     ]
    },
    {
     "data": {
      "text/plain": [
       "['1',\n",
       " '1',\n",
       " '8',\n",
       " '9',\n",
       " '0',\n",
       " '9',\n",
       " '8',\n",
       " '7',\n",
       " '6',\n",
       " '5',\n",
       " '6',\n",
       " '4',\n",
       " '1',\n",
       " '2',\n",
       " '8',\n",
       " '9',\n",
       " '0',\n",
       " '9',\n",
       " '8',\n",
       " '7',\n",
       " '6',\n",
       " '5',\n",
       " '6',\n",
       " '4',\n",
       " '2',\n",
       " '2',\n",
       " '3',\n",
       " '3',\n",
       " '8',\n",
       " '9',\n",
       " '0',\n",
       " '9',\n",
       " '8',\n",
       " '7',\n",
       " '6',\n",
       " '5',\n",
       " '6',\n",
       " '4',\n",
       " '3']"
      ]
     },
     "execution_count": 30,
     "metadata": {},
     "output_type": "execute_result"
    }
   ],
   "source": [
    "# ^ $\n",
    "# [],{},?+*$^.\n",
    "data = open('data.csv').read()\n",
    "print data\n",
    "re.findall('[0-9]',data,re.I)"
   ]
  },
  {
   "cell_type": "code",
   "execution_count": 31,
   "metadata": {
    "collapsed": false
   },
   "outputs": [
    {
     "name": "stdout",
     "output_type": "stream",
     "text": [
      "1,name1,8909876564,email1@gmail.com\n",
      "name2,8909876564,Email2@yahoo.co.in,2\n",
      "3,email3@rediff.com,8909876564,name3\n"
     ]
    },
    {
     "data": {
      "text/plain": [
       "['1']"
      ]
     },
     "execution_count": 31,
     "metadata": {},
     "output_type": "execute_result"
    }
   ],
   "source": [
    "# ^ $\n",
    "# [],{},?+*$^.\n",
    "data = open('data.csv').read()\n",
    "print data\n",
    "re.findall('^[0-9]',data,re.I)"
   ]
  },
  {
   "cell_type": "code",
   "execution_count": 32,
   "metadata": {
    "collapsed": false
   },
   "outputs": [
    {
     "name": "stdout",
     "output_type": "stream",
     "text": [
      "1,name1,8909876564,email1@gmail.com\n",
      "name2,8909876564,Email2@yahoo.co.in,2\n",
      "3,email3@rediff.com,8909876564,name3\n"
     ]
    },
    {
     "data": {
      "text/plain": [
       "['3']"
      ]
     },
     "execution_count": 32,
     "metadata": {},
     "output_type": "execute_result"
    }
   ],
   "source": [
    "# ^ $\n",
    "# [],{},?+*$^.\n",
    "data = open('data.csv').read()\n",
    "print data\n",
    "re.findall('[0-9]$',data,re.I)"
   ]
  },
  {
   "cell_type": "code",
   "execution_count": 33,
   "metadata": {
    "collapsed": false
   },
   "outputs": [
    {
     "name": "stdout",
     "output_type": "stream",
     "text": [
      "1,name1,8909876564,email1@gmail.com\n",
      "name2,8909876564,Email2@yahoo.co.in,2\n",
      "3,email3@rediff.com,8909876564,name3\n"
     ]
    },
    {
     "data": {
      "text/plain": [
       "['2', '3']"
      ]
     },
     "execution_count": 33,
     "metadata": {},
     "output_type": "execute_result"
    }
   ],
   "source": [
    "# ^ $\n",
    "# [],{},?+*$^.\n",
    "data = open('data.csv').read()\n",
    "print data\n",
    "re.findall('[0-9]$',data,re.I|re.M)"
   ]
  },
  {
   "cell_type": "code",
   "execution_count": 34,
   "metadata": {
    "collapsed": false
   },
   "outputs": [
    {
     "name": "stdout",
     "output_type": "stream",
     "text": [
      "1,name1,8909876564,email1@gmail.com\n",
      "name2,8909876564,Email2@yahoo.co.in,2\n",
      "3,email3@rediff.com,8909876564,name3\n"
     ]
    },
    {
     "data": {
      "text/plain": [
       "[',',\n",
       " 'n',\n",
       " 'a',\n",
       " 'm',\n",
       " 'e',\n",
       " ',',\n",
       " ',',\n",
       " 'e',\n",
       " 'm',\n",
       " 'a',\n",
       " 'i',\n",
       " 'l',\n",
       " '@',\n",
       " 'g',\n",
       " 'm',\n",
       " 'a',\n",
       " 'i',\n",
       " 'l',\n",
       " '.',\n",
       " 'c',\n",
       " 'o',\n",
       " 'm',\n",
       " '\\n',\n",
       " 'n',\n",
       " 'a',\n",
       " 'm',\n",
       " 'e',\n",
       " ',',\n",
       " ',',\n",
       " 'E',\n",
       " 'm',\n",
       " 'a',\n",
       " 'i',\n",
       " 'l',\n",
       " '@',\n",
       " 'y',\n",
       " 'a',\n",
       " 'h',\n",
       " 'o',\n",
       " 'o',\n",
       " '.',\n",
       " 'c',\n",
       " 'o',\n",
       " '.',\n",
       " 'i',\n",
       " 'n',\n",
       " ',',\n",
       " '\\n',\n",
       " ',',\n",
       " 'e',\n",
       " 'm',\n",
       " 'a',\n",
       " 'i',\n",
       " 'l',\n",
       " '@',\n",
       " 'r',\n",
       " 'e',\n",
       " 'd',\n",
       " 'i',\n",
       " 'f',\n",
       " 'f',\n",
       " '.',\n",
       " 'c',\n",
       " 'o',\n",
       " 'm',\n",
       " ',',\n",
       " ',',\n",
       " 'n',\n",
       " 'a',\n",
       " 'm',\n",
       " 'e']"
      ]
     },
     "execution_count": 34,
     "metadata": {},
     "output_type": "execute_result"
    }
   ],
   "source": [
    "# ^ $\n",
    "# [],{},?+*$^.\n",
    "data = open('data.csv').read()\n",
    "print data\n",
    "re.findall('[^0-9]',data,re.I|re.M)"
   ]
  },
  {
   "cell_type": "code",
   "execution_count": 35,
   "metadata": {
    "collapsed": false
   },
   "outputs": [
    {
     "name": "stdout",
     "output_type": "stream",
     "text": [
      "1,name1,8909876564,email1@gmail.com\n",
      "name2,8909876564,Email2@yahoo.co.in,2\n",
      "3,email3@rediff.com,8909876564,name3\n"
     ]
    },
    {
     "data": {
      "text/plain": [
       "['1', '3']"
      ]
     },
     "execution_count": 35,
     "metadata": {},
     "output_type": "execute_result"
    }
   ],
   "source": [
    "# ^ $\n",
    "# [],{},?+*$^.\n",
    "data = open('data.csv').read()\n",
    "print data\n",
    "re.findall('^[0-9]',data,re.I|re.M)"
   ]
  },
  {
   "cell_type": "code",
   "execution_count": 36,
   "metadata": {
    "collapsed": false
   },
   "outputs": [
    {
     "name": "stdout",
     "output_type": "stream",
     "text": [
      "1,name1,8909876564,email1@gmail.com\n",
      "name2,8909876564,Email2@yahoo.co.in,2\n",
      "3,email3@rediff.com,8909876564,name3\n"
     ]
    }
   ],
   "source": [
    "print data"
   ]
  },
  {
   "cell_type": "code",
   "execution_count": 38,
   "metadata": {
    "collapsed": false
   },
   "outputs": [
    {
     "name": "stdout",
     "output_type": "stream",
     "text": [
      "1,name1,8909876564,email1@gmail.com\n",
      "name2,8909876564,Email2@yahoo.co.in,2\n",
      "3,email3@rediff.com,8909876564,name3\n"
     ]
    },
    {
     "data": {
      "text/plain": [
       "['email1@', 'Email2@', 'email3@']"
      ]
     },
     "execution_count": 38,
     "metadata": {},
     "output_type": "execute_result"
    }
   ],
   "source": [
    "# ^ $\n",
    "# [],{},?+*$^.\n",
    "data = open('data.csv').read()\n",
    "print data\n",
    "re.findall(\"[a-z0-9]+@\",data,re.I|re.M)"
   ]
  },
  {
   "cell_type": "code",
   "execution_count": 39,
   "metadata": {
    "collapsed": false
   },
   "outputs": [
    {
     "name": "stdout",
     "output_type": "stream",
     "text": [
      "1,name1,8909876564,email1@gmail.com\n",
      "name2,8909876564,Email2@yahoo.co.in,2\n",
      "3,email3@rediff.com,8909876564,name3\n"
     ]
    },
    {
     "data": {
      "text/plain": [
       "['email1@g', 'Email2@y', 'email3@r']"
      ]
     },
     "execution_count": 39,
     "metadata": {},
     "output_type": "execute_result"
    }
   ],
   "source": [
    "# ^ $\n",
    "# [],{},?+*$^.\n",
    "data = open('data.csv').read()\n",
    "print data\n",
    "re.findall(\"[a-z0-9]+@[a-z]\",data,re.I|re.M)"
   ]
  },
  {
   "cell_type": "code",
   "execution_count": 40,
   "metadata": {
    "collapsed": false
   },
   "outputs": [
    {
     "name": "stdout",
     "output_type": "stream",
     "text": [
      "1,name1,8909876564,email1@gmail.com\n",
      "name2,8909876564,Email2@yahoo.co.in,2\n",
      "3,email3@rediff.com,8909876564,name3\n"
     ]
    },
    {
     "data": {
      "text/plain": [
       "['email1@gmail', 'Email2@yahoo', 'email3@rediff']"
      ]
     },
     "execution_count": 40,
     "metadata": {},
     "output_type": "execute_result"
    }
   ],
   "source": [
    "# ^ $\n",
    "# [],{},?+*$^.\n",
    "data = open('data.csv').read()\n",
    "print data\n",
    "re.findall(\"[a-z0-9]+@[a-z]+\",data,re.I|re.M)"
   ]
  },
  {
   "cell_type": "code",
   "execution_count": 41,
   "metadata": {
    "collapsed": false
   },
   "outputs": [
    {
     "name": "stdout",
     "output_type": "stream",
     "text": [
      "1,name1,8909876564,email1@gmail.com\n",
      "name2,8909876564,Email2@yahoo.co.in,2\n",
      "3,email3@rediff.com,8909876564,name3\n"
     ]
    },
    {
     "data": {
      "text/plain": [
       "['email1@gmail.', 'Email2@yahoo.', 'email3@rediff.']"
      ]
     },
     "execution_count": 41,
     "metadata": {},
     "output_type": "execute_result"
    }
   ],
   "source": [
    "# ^ $\n",
    "# [],{},?+*$^.\n",
    "data = open('data.csv').read()\n",
    "print data\n",
    "re.findall(\"[a-z0-9]+@[a-z]+.\",data,re.I|re.M)"
   ]
  },
  {
   "cell_type": "code",
   "execution_count": 42,
   "metadata": {
    "collapsed": false
   },
   "outputs": [
    {
     "name": "stdout",
     "output_type": "stream",
     "text": [
      "1,name1,8909876564,email1@gmail.com\n",
      "name2,8909876564,Email2@yahoo.co.in,2\n",
      "3,email3@rediff.com,8909876564,name3\n"
     ]
    },
    {
     "data": {
      "text/plain": [
       "['email1@gmail.', 'Email2@yahoo.', 'email3@rediff.']"
      ]
     },
     "execution_count": 42,
     "metadata": {},
     "output_type": "execute_result"
    }
   ],
   "source": [
    "# ^ $\n",
    "# [],{},?+*$^.\n",
    "data = open('data.csv').read()\n",
    "print data\n",
    "re.findall(\"[a-z0-9]+@[a-z]+\\.\",data,re.I|re.M)"
   ]
  },
  {
   "cell_type": "code",
   "execution_count": 43,
   "metadata": {
    "collapsed": false
   },
   "outputs": [
    {
     "name": "stdout",
     "output_type": "stream",
     "text": [
      "1,name1,8909876564,email1@gmail.com\n",
      "name2,8909876564,Email2@yahoo.co.in,2\n",
      "3,email3@rediff.com,8909876564,name3\n"
     ]
    },
    {
     "data": {
      "text/plain": [
       "['email1@gmail.c', 'Email2@yahoo.c', 'email3@rediff.c']"
      ]
     },
     "execution_count": 43,
     "metadata": {},
     "output_type": "execute_result"
    }
   ],
   "source": [
    "# ^ $\n",
    "# [],{},?+*$^.\n",
    "data = open('data.csv').read()\n",
    "print data\n",
    "re.findall(\"[a-z0-9]+@[a-z]+\\..\",data,re.I|re.M)"
   ]
  },
  {
   "cell_type": "code",
   "execution_count": 44,
   "metadata": {
    "collapsed": false
   },
   "outputs": [
    {
     "name": "stdout",
     "output_type": "stream",
     "text": [
      "1,name1,8909876564,email1@gmail.com\n",
      "name2,8909876564,Email2@yahoo.co.in,2\n",
      "3,email3@rediff.com,8909876564,name3\n"
     ]
    },
    {
     "data": {
      "text/plain": [
       "['email1@gmail.com', 'Email2@yahoo.co', 'email3@rediff.com']"
      ]
     },
     "execution_count": 44,
     "metadata": {},
     "output_type": "execute_result"
    }
   ],
   "source": [
    "# ^ $\n",
    "# [],{},?+*$^.\n",
    "data = open('data.csv').read()\n",
    "print data\n",
    "re.findall(\"[a-z0-9]+@[a-z]+\\.[com]+\",data,re.I|re.M)"
   ]
  },
  {
   "cell_type": "code",
   "execution_count": 45,
   "metadata": {
    "collapsed": false
   },
   "outputs": [
    {
     "name": "stdout",
     "output_type": "stream",
     "text": [
      "1,name1,8909876564,email1@gmail.com\n",
      "name2,8909876564,Email2@yahoo.co.in,2\n",
      "3,email3@rediff.com,8909876564,name3\n"
     ]
    },
    {
     "data": {
      "text/plain": [
       "['email1@gmail.com', 'Email2@yahoo.co.', 'email3@rediff.com']"
      ]
     },
     "execution_count": 45,
     "metadata": {},
     "output_type": "execute_result"
    }
   ],
   "source": [
    "# ^ $\n",
    "# [],{},?+*$^.\n",
    "data = open('data.csv').read()\n",
    "print data\n",
    "re.findall(\"[a-z0-9]+@[a-z]+\\.[com.n]+\",data,re.I|re.M)"
   ]
  },
  {
   "cell_type": "code",
   "execution_count": 46,
   "metadata": {
    "collapsed": false
   },
   "outputs": [
    {
     "name": "stdout",
     "output_type": "stream",
     "text": [
      "1,name1,8909876564,email1@gmail.com\n",
      "name2,8909876564,Email2@yahoo.co.in,2\n",
      "3,email3@rediff.com,8909876564,name3\n"
     ]
    },
    {
     "data": {
      "text/plain": [
       "['email1@gmail.com', 'Email2@yahoo.co.in', 'email3@rediff.com']"
      ]
     },
     "execution_count": 46,
     "metadata": {},
     "output_type": "execute_result"
    }
   ],
   "source": [
    "# ^ $\n",
    "# [],{},?+*$^.\n",
    "data = open('data.csv').read()\n",
    "print data\n",
    "re.findall(\"[a-z0-9]+@[a-z]+\\.[com.in]+\",data,re.I|re.M)"
   ]
  },
  {
   "cell_type": "code",
   "execution_count": 47,
   "metadata": {
    "collapsed": false
   },
   "outputs": [
    {
     "name": "stdout",
     "output_type": "stream",
     "text": [
      "1,name1,8909876564,email1@gmail.com\n",
      "name2,8909876564,Email2@yahoo.co.in,2\n",
      "3,email3@rediff.com,8909876564,name3\n"
     ]
    },
    {
     "data": {
      "text/plain": [
       "['email1@gmail.co', 'Email2@yahoo.co.in', 'email3@rediff.co']"
      ]
     },
     "execution_count": 47,
     "metadata": {},
     "output_type": "execute_result"
    }
   ],
   "source": [
    "# ^ $\n",
    "# [],{},?+*$^.\n",
    "data = open('data.csv').read()\n",
    "print data\n",
    "re.findall(\"[a-z0-9]+@[a-z]+\\.[co.in]+\",data,re.I|re.M)"
   ]
  },
  {
   "cell_type": "code",
   "execution_count": 48,
   "metadata": {
    "collapsed": false
   },
   "outputs": [
    {
     "name": "stdout",
     "output_type": "stream",
     "text": [
      "1,name1,8909876564,email1@gmail.com\n",
      "name2,8909876564,Email2@yahoo.co.in,2\n",
      "3,email3@rediff.com,8909876564,name3\n"
     ]
    },
    {
     "data": {
      "text/plain": [
       "['email1@gmail.com', 'Email2@yahoo.co.in', 'email3@rediff.com']"
      ]
     },
     "execution_count": 48,
     "metadata": {},
     "output_type": "execute_result"
    }
   ],
   "source": [
    "# ^ $\n",
    "# [],{},?+*$^.\n",
    "data = open('data.csv').read()\n",
    "print data\n",
    "re.findall(\"[a-z0-9]+@[a-z]+\\.[a-z.]+\",data,re.I|re.M)"
   ]
  },
  {
   "cell_type": "code",
   "execution_count": 50,
   "metadata": {
    "collapsed": false
   },
   "outputs": [
    {
     "name": "stdout",
     "output_type": "stream",
     "text": [
      "1,name1,8909876564,email1@gmail.com\n",
      "name2,8909876564,Email2@yahoo.co.in,2\n",
      "3,email3@rediff.com,8909876564,name3\n",
      "None\n"
     ]
    }
   ],
   "source": [
    "# ^ $\n",
    "# [],{},?+*$^.\n",
    "data = open('data.csv').read()\n",
    "print data\n",
    "print re.match(\"[a-z0-9]+@[a-z]+\\.[a-z.]+\",data,re.I|re.M)"
   ]
  },
  {
   "cell_type": "code",
   "execution_count": 51,
   "metadata": {
    "collapsed": false
   },
   "outputs": [
    {
     "name": "stdout",
     "output_type": "stream",
     "text": [
      "1,name1,8909876564,email1@gmail.com\n",
      "name2,8909876564,Email2@yahoo.co.in,2\n",
      "3,email3@rediff.com,8909876564,name3\n",
      "<_sre.SRE_Match object at 0x7f366cf8fd30>\n"
     ]
    }
   ],
   "source": [
    "# ^ $\n",
    "# [],{},?+*$^.\n",
    "data = open('data.csv').read()\n",
    "print data\n",
    "print re.search(\"[a-z0-9]+@[a-z]+\\.[a-z.]+\",data,re.I|re.M)"
   ]
  },
  {
   "cell_type": "code",
   "execution_count": 52,
   "metadata": {
    "collapsed": false
   },
   "outputs": [
    {
     "name": "stdout",
     "output_type": "stream",
     "text": [
      "1,name1,8909876564,email1@gmail.com\n",
      "name2,8909876564,Email2@yahoo.co.in,2\n",
      "3,email3@rediff.com,8909876564,name3\n"
     ]
    },
    {
     "data": {
      "text/plain": [
       "['email1@gmail.com', 'Email2@yahoo.co.in', 'email3@rediff.com']"
      ]
     },
     "execution_count": 52,
     "metadata": {},
     "output_type": "execute_result"
    }
   ],
   "source": [
    "# ^ $\n",
    "# [],{},?+*$^.\n",
    "data = open('data.csv').read()\n",
    "print data\n",
    "re.findall(\"[a-z0-9]+@[a-z]+\\.[a-z.]+\",data,re.I|re.M)"
   ]
  },
  {
   "cell_type": "code",
   "execution_count": 53,
   "metadata": {
    "collapsed": false
   },
   "outputs": [
    {
     "name": "stdout",
     "output_type": "stream",
     "text": [
      "['email1@gmail.com', 'mail2@yahoo.co.in', 'email3@rediff.com']\n"
     ]
    }
   ],
   "source": [
    "# ^ $\n",
    "# [],{},?+*$^.\n",
    "data = open('data.csv').read()\n",
    "email_reg = re.compile(\"[a-z0-9]+@[a-z]+\\.[a-z.]+\")\n",
    "print email_reg.findall(data)"
   ]
  },
  {
   "cell_type": "code",
   "execution_count": 56,
   "metadata": {
    "collapsed": false
   },
   "outputs": [],
   "source": [
    "class c1:\n",
    "    def __init__(self,c,d,e,f1):\n",
    "        self.c=c\n",
    "        self.d=d\n",
    "        self.e=e\n",
    "    def fun(self):\n",
    "        print self.f1\n",
    "        pass\n",
    "class c2(c1):\n",
    "    def fun2(self):\n",
    "        self.fun(10)\n",
    "o2=c2(100,200,300,'value required for fun')\n",
    "o2.fun2()"
   ]
  },
  {
   "cell_type": "code",
   "execution_count": null,
   "metadata": {
    "collapsed": true
   },
   "outputs": [],
   "source": []
  }
 ],
 "metadata": {
  "kernelspec": {
   "display_name": "Python 2",
   "language": "python",
   "name": "python2"
  },
  "language_info": {
   "codemirror_mode": {
    "name": "ipython",
    "version": 2
   },
   "file_extension": ".py",
   "mimetype": "text/x-python",
   "name": "python",
   "nbconvert_exporter": "python",
   "pygments_lexer": "ipython2",
   "version": "2.7.13"
  }
 },
 "nbformat": 4,
 "nbformat_minor": 2
}
